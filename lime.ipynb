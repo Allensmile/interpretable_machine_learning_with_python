{
 "cells": [
  {
   "cell_type": "markdown",
   "metadata": {},
   "source": [
    "## License \n",
    "\n",
    "Copyright 2017 J. Patrick Hall, jphall@gwu.edu\n",
    "\n",
    "Permission is hereby granted, free of charge, to any person obtaining a copy of this software and associated documentation files (the \"Software\"), to deal in the Software without restriction, including without limitation the rights to use, copy, modify, merge, publish, distribute, sublicense, and/or sell copies of the Software, and to permit persons to whom the Software is furnished to do so, subject to the following conditions:\n",
    "\n",
    "The above copyright notice and this permission notice shall be included in all copies or substantial portions of the Software.\n",
    "\n",
    "THE SOFTWARE IS PROVIDED \"AS IS\", WITHOUT WARRANTY OF ANY KIND, EXPRESS OR IMPLIED, INCLUDING BUT NOT LIMITED TO THE WARRANTIES OF MERCHANTABILITY, FITNESS FOR A PARTICULAR PURPOSE AND NONINFRINGEMENT. IN NO EVENT SHALL THE AUTHORS OR COPYRIGHT HOLDERS BE LIABLE FOR ANY CLAIM, DAMAGES OR OTHER LIABILITY, WHETHER IN AN ACTION OF CONTRACT, TORT OR OTHERWISE, ARISING FROM, OUT OF OR IN CONNECTION WITH THE SOFTWARE OR THE USE OR OTHER DEALINGS IN THE SOFTWARE."
   ]
  },
  {
   "cell_type": "markdown",
   "metadata": {},
   "source": [
    "# Explain Your Predictive Models to Business Stakeholders using LIME with Python and H2O\n",
    "#### Describing complex models and generating reason codes with Local Interpretable Model-agnostic Explanations (LIME) and LIME-variants"
   ]
  },
  {
   "cell_type": "markdown",
   "metadata": {},
   "source": [
    "#### Python imports\n",
    "In general, NumPy and Pandas will be used for data manipulation purposes and h2o will be used for modeling tasks. "
   ]
  },
  {
   "cell_type": "code",
   "execution_count": 1,
   "metadata": {
    "collapsed": false
   },
   "outputs": [],
   "source": [
    "# h2o Python API with specific classes\n",
    "import h2o \n",
    "from h2o.estimators.glm import H2OGeneralizedLinearEstimator # for LIME\n",
    "from h2o.estimators.gbm import H2OGradientBoostingEstimator  # for GBM\n",
    "\n",
    "import operator # for sorting dictionaries\n",
    "\n",
    "import numpy as np   # array, vector, matrix calculations\n",
    "import pandas as pd  # DataFrame handling\n",
    "\n",
    "# display plots in notebook\n",
    "%matplotlib inline"
   ]
  },
  {
   "cell_type": "markdown",
   "metadata": {},
   "source": [
    "#### Start h2o\n",
    "H2o is both a library and a server. The machine learning algorithms in the library take advantage of the multithreaded and distributed architecture provided by the server to train machine learning algorithms extremely efficiently. The API for the library was imported above in cell 1, but the server still needs to be started."
   ]
  },
  {
   "cell_type": "code",
   "execution_count": 2,
   "metadata": {
    "collapsed": false
   },
   "outputs": [
    {
     "name": "stdout",
     "output_type": "stream",
     "text": [
      "Checking whether there is an H2O instance running at http://localhost:54321..... not found.\n",
      "Attempting to start a local H2O server...\n",
      "  Java Version: java version \"1.8.0_112\"; Java(TM) SE Runtime Environment (build 1.8.0_112-b16); Java HotSpot(TM) 64-Bit Server VM (build 25.112-b16, mixed mode)\n",
      "  Starting server from /Users/phall/anaconda/lib/python3.5/site-packages/h2o/backend/bin/h2o.jar\n",
      "  Ice root: /var/folders/tc/0ss1l73113j3wdyjsxmy1j2r0000gn/T/tmpa60prdem\n",
      "  JVM stdout: /var/folders/tc/0ss1l73113j3wdyjsxmy1j2r0000gn/T/tmpa60prdem/h2o_phall_started_from_python.out\n",
      "  JVM stderr: /var/folders/tc/0ss1l73113j3wdyjsxmy1j2r0000gn/T/tmpa60prdem/h2o_phall_started_from_python.err\n",
      "  Server is running at http://127.0.0.1:54321\n",
      "Connecting to H2O server at http://127.0.0.1:54321... successful.\n"
     ]
    },
    {
     "data": {
      "text/html": [
       "<div style=\"overflow:auto\"><table style=\"width:50%\"><tr><td>H2O cluster uptime:</td>\n",
       "<td>02 secs</td></tr>\n",
       "<tr><td>H2O cluster version:</td>\n",
       "<td>3.14.0.2</td></tr>\n",
       "<tr><td>H2O cluster version age:</td>\n",
       "<td>1 month and 12 days </td></tr>\n",
       "<tr><td>H2O cluster name:</td>\n",
       "<td>H2O_from_python_phall_4bv2e2</td></tr>\n",
       "<tr><td>H2O cluster total nodes:</td>\n",
       "<td>1</td></tr>\n",
       "<tr><td>H2O cluster free memory:</td>\n",
       "<td>3.556 Gb</td></tr>\n",
       "<tr><td>H2O cluster total cores:</td>\n",
       "<td>8</td></tr>\n",
       "<tr><td>H2O cluster allowed cores:</td>\n",
       "<td>8</td></tr>\n",
       "<tr><td>H2O cluster status:</td>\n",
       "<td>accepting new members, healthy</td></tr>\n",
       "<tr><td>H2O connection url:</td>\n",
       "<td>http://127.0.0.1:54321</td></tr>\n",
       "<tr><td>H2O connection proxy:</td>\n",
       "<td>None</td></tr>\n",
       "<tr><td>H2O internal security:</td>\n",
       "<td>False</td></tr>\n",
       "<tr><td>H2O API Extensions:</td>\n",
       "<td>XGBoost, Algos, AutoML, Core V3, Core V4</td></tr>\n",
       "<tr><td>Python version:</td>\n",
       "<td>3.5.2 final</td></tr></table></div>"
      ],
      "text/plain": [
       "--------------------------  ----------------------------------------\n",
       "H2O cluster uptime:         02 secs\n",
       "H2O cluster version:        3.14.0.2\n",
       "H2O cluster version age:    1 month and 12 days\n",
       "H2O cluster name:           H2O_from_python_phall_4bv2e2\n",
       "H2O cluster total nodes:    1\n",
       "H2O cluster free memory:    3.556 Gb\n",
       "H2O cluster total cores:    8\n",
       "H2O cluster allowed cores:  8\n",
       "H2O cluster status:         accepting new members, healthy\n",
       "H2O connection url:         http://127.0.0.1:54321\n",
       "H2O connection proxy:\n",
       "H2O internal security:      False\n",
       "H2O API Extensions:         XGBoost, Algos, AutoML, Core V3, Core V4\n",
       "Python version:             3.5.2 final\n",
       "--------------------------  ----------------------------------------"
      ]
     },
     "metadata": {},
     "output_type": "display_data"
    }
   ],
   "source": [
    "h2o.init()\n",
    "h2o.remove_all()"
   ]
  },
  {
   "cell_type": "markdown",
   "metadata": {},
   "source": [
    "## 1. Download, explore, and prepare UCI credit card default data\n",
    "\n",
    "UCI credit card default data: https://archive.ics.uci.edu/ml/datasets/default+of+credit+card+clients\n",
    "\n",
    "The UCI credit card default data contains demographic and payment information about credit card customers in Taiwan in the year 2005. The data set contains 23 input variables: \n",
    "\n",
    "* **LIMIT_BAL**: Amount of given credit (NT dollar)\n",
    "* **SEX**: 1 = male; 2 = female\n",
    "* **EDUCATION**: 1 = graduate school; 2 = university; 3 = high school; 4 = others \n",
    "* **MARRIAGE**: 1 = married; 2 = single; 3 = others\n",
    "* **AGE**: Age in years \n",
    "* **PAY_0, PAY_2 - PAY_6**: History of past payment; PAY_0 = the repayment status in September, 2005; PAY_2 = the repayment status in August, 2005; ...; PAY_6 = the repayment status in April, 2005. The measurement scale for the repayment status is: -1 = pay duly; 1 = payment delay for one month; 2 = payment delay for two months; ...; 8 = payment delay for eight months; 9 = payment delay for nine months and above. \n",
    "* **BILL_AMT1 - BILL_AMT6**: Amount of bill statement (NT dollar). BILL_AMNT1 = amount of bill statement in September, 2005; BILL_AMT2 = amount of bill statement in August, 2005; ...; BILL_AMT6 = amount of bill statement in April, 2005. \n",
    "* **PAY_AMT1 - PAY_AMT6**: Amount of previous payment (NT dollar). PAY_AMT1 = amount paid in September, 2005; PAY_AMT2 = amount paid in August, 2005; ...; PAY_AMT6 = amount paid in April, 2005. \n",
    "\n",
    "These 23 input variables are used to predict the target variable, whether or not a customer defaulted on their credit card bill in late 2005.\n",
    "\n",
    "Because H2O accepts both numeric and character inputs, some variables will be recoded into more transparent character values."
   ]
  },
  {
   "cell_type": "markdown",
   "metadata": {},
   "source": [
    "#### Import data and clean\n",
    "The credit card default data is available as an `.xls` file. Pandas reads `.xls` files automatically, so it's used to load the credit card default data and give the prediction target a shorter name: `DEFAULT_NEXT_MONTH`."
   ]
  },
  {
   "cell_type": "code",
   "execution_count": 3,
   "metadata": {
    "collapsed": false
   },
   "outputs": [],
   "source": [
    "# import XLS file\n",
    "path = 'default_of_credit_card_clients.xls'\n",
    "data = pd.read_excel(path,\n",
    "                     skiprows=1)\n",
    "\n",
    "# remove spaces from target column name \n",
    "data = data.rename(columns={'default payment next month': 'DEFAULT_NEXT_MONTH'}) "
   ]
  },
  {
   "cell_type": "markdown",
   "metadata": {},
   "source": [
    "#### Assign modeling roles\n",
    "The shorthand name `y` is assigned to the prediction target. `X` is assigned to all other input variables in the credit card default data except the row indentifier, `ID`."
   ]
  },
  {
   "cell_type": "code",
   "execution_count": 4,
   "metadata": {
    "collapsed": false
   },
   "outputs": [
    {
     "name": "stdout",
     "output_type": "stream",
     "text": [
      "y = DEFAULT_NEXT_MONTH\n",
      "X = ['LIMIT_BAL', 'SEX', 'EDUCATION', 'MARRIAGE', 'AGE', 'PAY_0', 'PAY_2', 'PAY_3', 'PAY_4', 'PAY_5', 'PAY_6', 'BILL_AMT1', 'BILL_AMT2', 'BILL_AMT3', 'BILL_AMT4', 'BILL_AMT5', 'BILL_AMT6', 'PAY_AMT1', 'PAY_AMT2', 'PAY_AMT3', 'PAY_AMT4', 'PAY_AMT5', 'PAY_AMT6']\n"
     ]
    }
   ],
   "source": [
    "# assign target and inputs for GBM\n",
    "y = 'DEFAULT_NEXT_MONTH'\n",
    "X = [name for name in data.columns if name not in [y, 'ID']]\n",
    "print('y =', y)\n",
    "print('X =', X)"
   ]
  },
  {
   "cell_type": "markdown",
   "metadata": {},
   "source": [
    "#### Helper function for recoding values in the UCI credict card default data\n",
    "This simple function maps longer, more understandable character string values from the UCI credit card default data dictionary to the original integer values of the input variables found in the dataset. These character values can be used directly in h2o decision tree models, and the function returns the original Pandas DataFrame as an h2o object, an H2OFrame. H2o models cannot run on Pandas DataFrames. They require H2OFrames."
   ]
  },
  {
   "cell_type": "code",
   "execution_count": 5,
   "metadata": {
    "collapsed": false
   },
   "outputs": [
    {
     "name": "stdout",
     "output_type": "stream",
     "text": [
      "Parse progress: |█████████████████████████████████████████████████████████| 100%\n"
     ]
    }
   ],
   "source": [
    "def recode_cc_data(frame):\n",
    "    \n",
    "    \"\"\" Recodes numeric categorical variables into categorical character variables\n",
    "    with more transparent values. \n",
    "    \n",
    "    Args:\n",
    "        frame: Pandas DataFrame version of UCI credit card default data.\n",
    "        \n",
    "    Returns: \n",
    "        H2OFrame with recoded values.\n",
    "        \n",
    "    \"\"\"\n",
    "    \n",
    "    # define recoded values\n",
    "    sex_dict = {1:'male', 2:'female'}\n",
    "    education_dict = {0:'other', 1:'graduate school', 2:'university', 3:'high school', \n",
    "                      4:'other', 5:'other', 6:'other'}\n",
    "    marriage_dict = {0:'other', 1:'married', 2:'single', 3:'divorced'}\n",
    "    pay_dict = {-2:'no consumption', -1:'pay duly', 0:'use of revolving credit', 1:'1 month delay', \n",
    "                2:'2 month delay', 3:'3 month delay', 4:'4 month delay', 5:'5 month delay', 6:'6 month delay', \n",
    "                7:'7 month delay', 8:'8 month delay', 9:'9+ month delay'}\n",
    "    \n",
    "    # recode values using Pandas apply() and anonymous function\n",
    "    frame['SEX'] = frame['SEX'].apply(lambda i: sex_dict[i])\n",
    "    frame['EDUCATION'] = frame['EDUCATION'].apply(lambda i: education_dict[i])    \n",
    "    frame['MARRIAGE'] = frame['MARRIAGE'].apply(lambda i: marriage_dict[i]) \n",
    "    for name in frame.columns:\n",
    "        if name in ['PAY_0', 'PAY_2', 'PAY_3', 'PAY_4', 'PAY_5', 'PAY_6']:\n",
    "            frame[name] = frame[name].apply(lambda i: pay_dict[i])            \n",
    "                \n",
    "    return h2o.H2OFrame(frame)\n",
    "\n",
    "data = recode_cc_data(data)"
   ]
  },
  {
   "cell_type": "markdown",
   "metadata": {},
   "source": [
    "#### Ensure target is handled as a categorical variable\n",
    "In h2o, a numeric variable can be treated as numeric or categorical. The target variable `DEFAULT_NEXT_MONTH` takes on values of `0` or `1`. To ensure this numeric variable is treated as a categorical variable, the `asfactor()` function is used to explicitly declare that it is a categorical variable. "
   ]
  },
  {
   "cell_type": "code",
   "execution_count": 6,
   "metadata": {
    "collapsed": false
   },
   "outputs": [],
   "source": [
    "data[y] = data[y].asfactor() "
   ]
  },
  {
   "cell_type": "markdown",
   "metadata": {},
   "source": [
    "#### Display descriptive statistics\n",
    "The h2o `describe()` function displays a brief description of the credit card default data. For the categorical input variables `LIMIT_BAL`, `SEX`, `EDUCATION`, `MARRIAGE`, and `PAY_0`-`PAY_6`, the new character values created above in cell 5 are visible. Basic descriptive statistics are displayed for numeric inputs."
   ]
  },
  {
   "cell_type": "code",
   "execution_count": 7,
   "metadata": {
    "collapsed": false
   },
   "outputs": [
    {
     "name": "stdout",
     "output_type": "stream",
     "text": [
      "Rows:30000\n",
      "Cols:25\n",
      "\n",
      "\n"
     ]
    },
    {
     "data": {
      "text/html": [
       "<table>\n",
       "<thead>\n",
       "<tr><th>       </th><th>ID               </th><th>LIMIT_BAL         </th><th>SEX   </th><th>EDUCATION      </th><th>MARRIAGE  </th><th>AGE              </th><th>PAY_0                  </th><th>PAY_2                  </th><th>PAY_3                  </th><th>PAY_4                  </th><th>PAY_5                  </th><th>PAY_6                  </th><th>BILL_AMT1        </th><th>BILL_AMT2        </th><th>BILL_AMT3        </th><th>BILL_AMT4        </th><th>BILL_AMT5        </th><th>BILL_AMT6        </th><th>PAY_AMT1          </th><th>PAY_AMT2          </th><th>PAY_AMT3          </th><th>PAY_AMT4          </th><th>PAY_AMT5          </th><th>PAY_AMT6          </th><th>DEFAULT_NEXT_MONTH  </th></tr>\n",
       "</thead>\n",
       "<tbody>\n",
       "<tr><td>type   </td><td>int              </td><td>int               </td><td>enum  </td><td>enum           </td><td>enum      </td><td>int              </td><td>enum                   </td><td>enum                   </td><td>enum                   </td><td>enum                   </td><td>enum                   </td><td>enum                   </td><td>int              </td><td>int              </td><td>int              </td><td>int              </td><td>int              </td><td>int              </td><td>int               </td><td>int               </td><td>int               </td><td>int               </td><td>int               </td><td>int               </td><td>enum                </td></tr>\n",
       "<tr><td>mins   </td><td>1.0              </td><td>10000.0           </td><td>      </td><td>               </td><td>          </td><td>21.0             </td><td>                       </td><td>                       </td><td>                       </td><td>                       </td><td>                       </td><td>                       </td><td>-165580.0        </td><td>-69777.0         </td><td>-157264.0        </td><td>-170000.0        </td><td>-81334.0         </td><td>-339603.0        </td><td>0.0               </td><td>0.0               </td><td>0.0               </td><td>0.0               </td><td>0.0               </td><td>0.0               </td><td>                    </td></tr>\n",
       "<tr><td>mean   </td><td>15000.5          </td><td>167484.32266666688</td><td>      </td><td>               </td><td>          </td><td>35.48549999999994</td><td>                       </td><td>                       </td><td>                       </td><td>                       </td><td>                       </td><td>                       </td><td>51223.33090000009</td><td>49179.07516666668</td><td>47013.15479999971</td><td>43262.9489666666 </td><td>40311.40096666653</td><td>38871.76039999991</td><td>5663.580500000014 </td><td>5921.16350000001  </td><td>5225.681500000005 </td><td>4826.076866666661 </td><td>4799.387633333302 </td><td>5215.502566666664 </td><td>                    </td></tr>\n",
       "<tr><td>maxs   </td><td>30000.0          </td><td>1000000.0         </td><td>      </td><td>               </td><td>          </td><td>79.0             </td><td>                       </td><td>                       </td><td>                       </td><td>                       </td><td>                       </td><td>                       </td><td>964511.0         </td><td>983931.0         </td><td>1664089.0        </td><td>891586.0         </td><td>927171.0         </td><td>961664.0         </td><td>873552.0          </td><td>1684259.0         </td><td>896040.0          </td><td>621000.0          </td><td>426529.0          </td><td>528666.0          </td><td>                    </td></tr>\n",
       "<tr><td>sigma  </td><td>8660.398374208891</td><td>129747.66156720225</td><td>      </td><td>               </td><td>          </td><td>9.21790406809016 </td><td>                       </td><td>                       </td><td>                       </td><td>                       </td><td>                       </td><td>                       </td><td>73635.86057552959</td><td>71173.76878252836</td><td>69349.38742703681</td><td>64332.85613391641</td><td>60797.1557702648 </td><td>59554.10753674574</td><td>16563.280354025763</td><td>23040.870402057226</td><td>17606.961469803115</td><td>15666.159744031993</td><td>15278.305679144793</td><td>17777.465775435332</td><td>                    </td></tr>\n",
       "<tr><td>zeros  </td><td>0                </td><td>0                 </td><td>      </td><td>               </td><td>          </td><td>0                </td><td>                       </td><td>                       </td><td>                       </td><td>                       </td><td>                       </td><td>                       </td><td>2008             </td><td>2506             </td><td>2870             </td><td>3195             </td><td>3506             </td><td>4020             </td><td>5249              </td><td>5396              </td><td>5968              </td><td>6408              </td><td>6703              </td><td>7173              </td><td>                    </td></tr>\n",
       "<tr><td>missing</td><td>0                </td><td>0                 </td><td>0     </td><td>0              </td><td>0         </td><td>0                </td><td>0                      </td><td>0                      </td><td>0                      </td><td>0                      </td><td>0                      </td><td>0                      </td><td>0                </td><td>0                </td><td>0                </td><td>0                </td><td>0                </td><td>0                </td><td>0                 </td><td>0                 </td><td>0                 </td><td>0                 </td><td>0                 </td><td>0                 </td><td>0                   </td></tr>\n",
       "<tr><td>0      </td><td>1.0              </td><td>20000.0           </td><td>female</td><td>university     </td><td>married   </td><td>24.0             </td><td>2 month delay          </td><td>2 month delay          </td><td>pay duly               </td><td>pay duly               </td><td>no consumption         </td><td>no consumption         </td><td>3913.0           </td><td>3102.0           </td><td>689.0            </td><td>0.0              </td><td>0.0              </td><td>0.0              </td><td>0.0               </td><td>689.0             </td><td>0.0               </td><td>0.0               </td><td>0.0               </td><td>0.0               </td><td>1                   </td></tr>\n",
       "<tr><td>1      </td><td>2.0              </td><td>120000.0          </td><td>female</td><td>university     </td><td>single    </td><td>26.0             </td><td>pay duly               </td><td>2 month delay          </td><td>use of revolving credit</td><td>use of revolving credit</td><td>use of revolving credit</td><td>2 month delay          </td><td>2682.0           </td><td>1725.0           </td><td>2682.0           </td><td>3272.0           </td><td>3455.0           </td><td>3261.0           </td><td>0.0               </td><td>1000.0            </td><td>1000.0            </td><td>1000.0            </td><td>0.0               </td><td>2000.0            </td><td>1                   </td></tr>\n",
       "<tr><td>2      </td><td>3.0              </td><td>90000.0           </td><td>female</td><td>university     </td><td>single    </td><td>34.0             </td><td>use of revolving credit</td><td>use of revolving credit</td><td>use of revolving credit</td><td>use of revolving credit</td><td>use of revolving credit</td><td>use of revolving credit</td><td>29239.0          </td><td>14027.0          </td><td>13559.0          </td><td>14331.0          </td><td>14948.0          </td><td>15549.0          </td><td>1518.0            </td><td>1500.0            </td><td>1000.0            </td><td>1000.0            </td><td>1000.0            </td><td>5000.0            </td><td>0                   </td></tr>\n",
       "<tr><td>3      </td><td>4.0              </td><td>50000.0           </td><td>female</td><td>university     </td><td>married   </td><td>37.0             </td><td>use of revolving credit</td><td>use of revolving credit</td><td>use of revolving credit</td><td>use of revolving credit</td><td>use of revolving credit</td><td>use of revolving credit</td><td>46990.0          </td><td>48233.0          </td><td>49291.0          </td><td>28314.0          </td><td>28959.0          </td><td>29547.0          </td><td>2000.0            </td><td>2019.0            </td><td>1200.0            </td><td>1100.0            </td><td>1069.0            </td><td>1000.0            </td><td>0                   </td></tr>\n",
       "<tr><td>4      </td><td>5.0              </td><td>50000.0           </td><td>male  </td><td>university     </td><td>married   </td><td>57.0             </td><td>pay duly               </td><td>use of revolving credit</td><td>pay duly               </td><td>use of revolving credit</td><td>use of revolving credit</td><td>use of revolving credit</td><td>8617.0           </td><td>5670.0           </td><td>35835.0          </td><td>20940.0          </td><td>19146.0          </td><td>19131.0          </td><td>2000.0            </td><td>36681.0           </td><td>10000.0           </td><td>9000.0            </td><td>689.0             </td><td>679.0             </td><td>0                   </td></tr>\n",
       "<tr><td>5      </td><td>6.0              </td><td>50000.0           </td><td>male  </td><td>graduate school</td><td>single    </td><td>37.0             </td><td>use of revolving credit</td><td>use of revolving credit</td><td>use of revolving credit</td><td>use of revolving credit</td><td>use of revolving credit</td><td>use of revolving credit</td><td>64400.0          </td><td>57069.0          </td><td>57608.0          </td><td>19394.0          </td><td>19619.0          </td><td>20024.0          </td><td>2500.0            </td><td>1815.0            </td><td>657.0             </td><td>1000.0            </td><td>1000.0            </td><td>800.0             </td><td>0                   </td></tr>\n",
       "<tr><td>6      </td><td>7.0              </td><td>500000.0          </td><td>male  </td><td>graduate school</td><td>single    </td><td>29.0             </td><td>use of revolving credit</td><td>use of revolving credit</td><td>use of revolving credit</td><td>use of revolving credit</td><td>use of revolving credit</td><td>use of revolving credit</td><td>367965.0         </td><td>412023.0         </td><td>445007.0         </td><td>542653.0         </td><td>483003.0         </td><td>473944.0         </td><td>55000.0           </td><td>40000.0           </td><td>38000.0           </td><td>20239.0           </td><td>13750.0           </td><td>13770.0           </td><td>0                   </td></tr>\n",
       "<tr><td>7      </td><td>8.0              </td><td>100000.0          </td><td>female</td><td>university     </td><td>single    </td><td>23.0             </td><td>use of revolving credit</td><td>pay duly               </td><td>pay duly               </td><td>use of revolving credit</td><td>use of revolving credit</td><td>pay duly               </td><td>11876.0          </td><td>380.0            </td><td>601.0            </td><td>221.0            </td><td>-159.0           </td><td>567.0            </td><td>380.0             </td><td>601.0             </td><td>0.0               </td><td>581.0             </td><td>1687.0            </td><td>1542.0            </td><td>0                   </td></tr>\n",
       "<tr><td>8      </td><td>9.0              </td><td>140000.0          </td><td>female</td><td>high school    </td><td>married   </td><td>28.0             </td><td>use of revolving credit</td><td>use of revolving credit</td><td>2 month delay          </td><td>use of revolving credit</td><td>use of revolving credit</td><td>use of revolving credit</td><td>11285.0          </td><td>14096.0          </td><td>12108.0          </td><td>12211.0          </td><td>11793.0          </td><td>3719.0           </td><td>3329.0            </td><td>0.0               </td><td>432.0             </td><td>1000.0            </td><td>1000.0            </td><td>1000.0            </td><td>0                   </td></tr>\n",
       "<tr><td>9      </td><td>10.0             </td><td>20000.0           </td><td>male  </td><td>high school    </td><td>single    </td><td>35.0             </td><td>no consumption         </td><td>no consumption         </td><td>no consumption         </td><td>no consumption         </td><td>pay duly               </td><td>pay duly               </td><td>0.0              </td><td>0.0              </td><td>0.0              </td><td>0.0              </td><td>13007.0          </td><td>13912.0          </td><td>0.0               </td><td>0.0               </td><td>0.0               </td><td>13007.0           </td><td>1122.0            </td><td>0.0               </td><td>0                   </td></tr>\n",
       "</tbody>\n",
       "</table>"
      ]
     },
     "metadata": {},
     "output_type": "display_data"
    }
   ],
   "source": [
    "data.describe()"
   ]
  },
  {
   "cell_type": "markdown",
   "metadata": {},
   "source": [
    "## 2. Train an H2O GBM classifier"
   ]
  },
  {
   "cell_type": "markdown",
   "metadata": {},
   "source": [
    "#### Split data into training and test sets for early stopping\n",
    "The credit card default data is split into training and test sets to monitor and prevent overtraining. Reproducibility is another important factor in creating trustworthy models, and randomly splitting datasets can introduce randomness in model predictions and other results. A random seed is used here to ensure the data split is reproducible."
   ]
  },
  {
   "cell_type": "code",
   "execution_count": 8,
   "metadata": {
    "collapsed": false
   },
   "outputs": [
    {
     "name": "stdout",
     "output_type": "stream",
     "text": [
      "Train data rows = 21060, columns = 25\n",
      "Test data rows = 8940, columns = 25\n"
     ]
    }
   ],
   "source": [
    "# split into training and validation\n",
    "train, test = data.split_frame([0.7], seed=12345)\n",
    "\n",
    "# summarize split\n",
    "print('Train data rows = %d, columns = %d' % (train.shape[0], train.shape[1]))\n",
    "print('Test data rows = %d, columns = %d' % (test.shape[0], test.shape[1]))"
   ]
  },
  {
   "cell_type": "markdown",
   "metadata": {},
   "source": [
    "#### Train h2o GBM classifier\n",
    "Many tuning parameters must be specified to train a GBM using h2o. Typically a grid search would be performed to identify the best parameters for a given modeling task using the `H2OGridSearch` class. For brevity's sake, a previously-discovered set of good tuning parameters are specified here. Because gradient boosting methods typically resample training data, an additional random seed is also specified for the h2o GBM using the `seed` parameter to create reproducible predictions, error rates, and variable importance values. To avoid overfitting, the `stopping_rounds` parameter is used to stop the training process after the test error fails to decrease for 5 iterations. (The `score_tree_interval` parameter should also be set to gaurantee reproducibility when early stopping is used.) "
   ]
  },
  {
   "cell_type": "code",
   "execution_count": 9,
   "metadata": {
    "collapsed": false
   },
   "outputs": [
    {
     "name": "stdout",
     "output_type": "stream",
     "text": [
      "gbm Model Build progress: |███████████████████████████████████████████████| 100%\n",
      "GBM Test AUC = 0.78\n"
     ]
    }
   ],
   "source": [
    "# initialize GBM model\n",
    "model = H2OGradientBoostingEstimator(ntrees=150,            # maximum 150 trees in GBM\n",
    "                                     max_depth=4,           # trees can have maximum depth of 4\n",
    "                                     sample_rate=0.9,       # use 90% of rows in each iteration (tree)\n",
    "                                     col_sample_rate=0.9,   # use 90% of variables in each iteration (tree)\n",
    "                                     stopping_rounds=5,     # stop if validation error does not decrease for 5 iterations (trees)\n",
    "                                     seed=12345)            # random seed for reproducibility\n",
    "\n",
    "# train a GBM model\n",
    "model.train(y=y, x=X, training_frame=train, validation_frame=test)\n",
    "\n",
    "# print AUC\n",
    "print('GBM Test AUC = %.2f' % model.auc(valid=True))"
   ]
  },
  {
   "cell_type": "markdown",
   "metadata": {},
   "source": [
    "## 3. Use LIME to generate descriptions for a local region with a perturbed sample\n",
    "\n",
    "Based on: Ribeiro, Marco Tulio, Sameer Singh, and Carlos Guestrin. \"Why should i trust you?: Explaining the predictions of any classifier.\" In Proceedings of the 22nd ACM SIGKDD International Conference on Knowledge Discovery and Data Mining, pp. 1135-1144. ACM, 2016.\n",
    "\n",
    "http://www.kdd.org/kdd2016/papers/files/rfp0573-ribeiroA.pdf\n",
    "\n",
    "**Instead of perturbing a sample of interest to create a local region in which to fit a linear model, these examples use a practical sample, say all one story homes, from the data to create an approximately local region in which to fit a linear model.**"
   ]
  },
  {
   "cell_type": "code",
   "execution_count": 10,
   "metadata": {
    "collapsed": false
   },
   "outputs": [
    {
     "data": {
      "text/html": [
       "<table>\n",
       "<thead>\n",
       "<tr><th style=\"text-align: right;\">   ID</th><th style=\"text-align: right;\">  LIMIT_BAL</th><th>SEX   </th><th>EDUCATION      </th><th>MARRIAGE  </th><th style=\"text-align: right;\">  AGE</th><th>PAY_0        </th><th>PAY_2        </th><th>PAY_3        </th><th>PAY_4        </th><th>PAY_5        </th><th>PAY_6        </th><th style=\"text-align: right;\">  BILL_AMT1</th><th style=\"text-align: right;\">  BILL_AMT2</th><th style=\"text-align: right;\">  BILL_AMT3</th><th style=\"text-align: right;\">  BILL_AMT4</th><th style=\"text-align: right;\">  BILL_AMT5</th><th style=\"text-align: right;\">  BILL_AMT6</th><th style=\"text-align: right;\">  PAY_AMT1</th><th style=\"text-align: right;\">  PAY_AMT2</th><th style=\"text-align: right;\">  PAY_AMT3</th><th style=\"text-align: right;\">  PAY_AMT4</th><th style=\"text-align: right;\">  PAY_AMT5</th><th style=\"text-align: right;\">  PAY_AMT6</th><th style=\"text-align: right;\">  DEFAULT_NEXT_MONTH</th></tr>\n",
       "</thead>\n",
       "<tbody>\n",
       "<tr><td style=\"text-align: right;\">22760</td><td style=\"text-align: right;\">     460000</td><td>female</td><td>graduate school</td><td>married   </td><td style=\"text-align: right;\">   40</td><td>3 month delay</td><td>2 month delay</td><td>2 month delay</td><td>3 month delay</td><td>3 month delay</td><td>3 month delay</td><td style=\"text-align: right;\">       2650</td><td style=\"text-align: right;\">       2650</td><td style=\"text-align: right;\">       2650</td><td style=\"text-align: right;\">       2650</td><td style=\"text-align: right;\">       2650</td><td style=\"text-align: right;\">       2650</td><td style=\"text-align: right;\">         0</td><td style=\"text-align: right;\">         0</td><td style=\"text-align: right;\">         0</td><td style=\"text-align: right;\">         0</td><td style=\"text-align: right;\">         0</td><td style=\"text-align: right;\">       200</td><td style=\"text-align: right;\">                   1</td></tr>\n",
       "</tbody>\n",
       "</table>"
      ]
     },
     "metadata": {},
     "output_type": "display_data"
    },
    {
     "data": {
      "text/plain": []
     },
     "execution_count": 10,
     "metadata": {},
     "output_type": "execute_result"
    }
   ],
   "source": [
    "row = test[test['ID'] == 22760]\n",
    "row"
   ]
  },
  {
   "cell_type": "code",
   "execution_count": 11,
   "metadata": {
    "collapsed": false
   },
   "outputs": [
    {
     "data": {
      "text/html": [
       "<div>\n",
       "<style>\n",
       "    .dataframe thead tr:only-child th {\n",
       "        text-align: right;\n",
       "    }\n",
       "\n",
       "    .dataframe thead th {\n",
       "        text-align: left;\n",
       "    }\n",
       "\n",
       "    .dataframe tbody tr th {\n",
       "        vertical-align: top;\n",
       "    }\n",
       "</style>\n",
       "<table border=\"1\" class=\"dataframe\">\n",
       "  <thead>\n",
       "    <tr style=\"text-align: right;\">\n",
       "      <th></th>\n",
       "      <th>LIMIT_BAL</th>\n",
       "      <th>SEX</th>\n",
       "      <th>EDUCATION</th>\n",
       "      <th>MARRIAGE</th>\n",
       "      <th>AGE</th>\n",
       "      <th>PAY_0</th>\n",
       "      <th>PAY_2</th>\n",
       "      <th>PAY_3</th>\n",
       "      <th>PAY_4</th>\n",
       "      <th>PAY_5</th>\n",
       "      <th>...</th>\n",
       "      <th>BILL_AMT3</th>\n",
       "      <th>BILL_AMT4</th>\n",
       "      <th>BILL_AMT5</th>\n",
       "      <th>BILL_AMT6</th>\n",
       "      <th>PAY_AMT1</th>\n",
       "      <th>PAY_AMT2</th>\n",
       "      <th>PAY_AMT3</th>\n",
       "      <th>PAY_AMT4</th>\n",
       "      <th>PAY_AMT5</th>\n",
       "      <th>PAY_AMT6</th>\n",
       "    </tr>\n",
       "  </thead>\n",
       "  <tbody>\n",
       "    <tr>\n",
       "      <th>0</th>\n",
       "      <td>398861.949514</td>\n",
       "      <td>female</td>\n",
       "      <td>university</td>\n",
       "      <td>married</td>\n",
       "      <td>34.202575</td>\n",
       "      <td>use of revolving credit</td>\n",
       "      <td>4 month delay</td>\n",
       "      <td>4 month delay</td>\n",
       "      <td>4 month delay</td>\n",
       "      <td>pay duly</td>\n",
       "      <td>...</td>\n",
       "      <td>-11240.990057</td>\n",
       "      <td>69002.061748</td>\n",
       "      <td>-41105.836595</td>\n",
       "      <td>-47081.245746</td>\n",
       "      <td>-15675.578438</td>\n",
       "      <td>12026.549125</td>\n",
       "      <td>12263.481728</td>\n",
       "      <td>12520.207170</td>\n",
       "      <td>10421.669301</td>\n",
       "      <td>-1492.814518</td>\n",
       "    </tr>\n",
       "    <tr>\n",
       "      <th>1</th>\n",
       "      <td>512390.308944</td>\n",
       "      <td>female</td>\n",
       "      <td>university</td>\n",
       "      <td>married</td>\n",
       "      <td>43.551665</td>\n",
       "      <td>8 month delay</td>\n",
       "      <td>2 month delay</td>\n",
       "      <td>pay duly</td>\n",
       "      <td>8 month delay</td>\n",
       "      <td>7 month delay</td>\n",
       "      <td>...</td>\n",
       "      <td>35149.991274</td>\n",
       "      <td>42596.735469</td>\n",
       "      <td>109970.076815</td>\n",
       "      <td>33298.618711</td>\n",
       "      <td>-28833.064026</td>\n",
       "      <td>-6158.219209</td>\n",
       "      <td>-6635.923386</td>\n",
       "      <td>30838.811444</td>\n",
       "      <td>-15778.249919</td>\n",
       "      <td>36259.905936</td>\n",
       "    </tr>\n",
       "    <tr>\n",
       "      <th>2</th>\n",
       "      <td>635144.708340</td>\n",
       "      <td>male</td>\n",
       "      <td>high school</td>\n",
       "      <td>married</td>\n",
       "      <td>26.588185</td>\n",
       "      <td>1 month delay</td>\n",
       "      <td>6 month delay</td>\n",
       "      <td>no consumption</td>\n",
       "      <td>2 month delay</td>\n",
       "      <td>use of revolving credit</td>\n",
       "      <td>...</td>\n",
       "      <td>-32597.914242</td>\n",
       "      <td>27517.428108</td>\n",
       "      <td>54493.463498</td>\n",
       "      <td>-27088.485443</td>\n",
       "      <td>2697.983485</td>\n",
       "      <td>6639.841145</td>\n",
       "      <td>-11740.736533</td>\n",
       "      <td>-21876.810630</td>\n",
       "      <td>-5591.241629</td>\n",
       "      <td>5988.644923</td>\n",
       "    </tr>\n",
       "  </tbody>\n",
       "</table>\n",
       "<p>3 rows × 23 columns</p>\n",
       "</div>"
      ],
      "text/plain": [
       "       LIMIT_BAL     SEX    EDUCATION MARRIAGE        AGE  \\\n",
       "0  398861.949514  female   university  married  34.202575   \n",
       "1  512390.308944  female   university  married  43.551665   \n",
       "2  635144.708340    male  high school  married  26.588185   \n",
       "\n",
       "                     PAY_0          PAY_2           PAY_3          PAY_4  \\\n",
       "0  use of revolving credit  4 month delay   4 month delay  4 month delay   \n",
       "1            8 month delay  2 month delay        pay duly  8 month delay   \n",
       "2            1 month delay  6 month delay  no consumption  2 month delay   \n",
       "\n",
       "                     PAY_5      ...          BILL_AMT3     BILL_AMT4  \\\n",
       "0                 pay duly      ...      -11240.990057  69002.061748   \n",
       "1            7 month delay      ...       35149.991274  42596.735469   \n",
       "2  use of revolving credit      ...      -32597.914242  27517.428108   \n",
       "\n",
       "       BILL_AMT5     BILL_AMT6      PAY_AMT1      PAY_AMT2      PAY_AMT3  \\\n",
       "0  -41105.836595 -47081.245746 -15675.578438  12026.549125  12263.481728   \n",
       "1  109970.076815  33298.618711 -28833.064026  -6158.219209  -6635.923386   \n",
       "2   54493.463498 -27088.485443   2697.983485   6639.841145 -11740.736533   \n",
       "\n",
       "       PAY_AMT4      PAY_AMT5      PAY_AMT6  \n",
       "0  12520.207170  10421.669301  -1492.814518  \n",
       "1  30838.811444 -15778.249919  36259.905936  \n",
       "2 -21876.810630  -5591.241629   5988.644923  \n",
       "\n",
       "[3 rows x 23 columns]"
      ]
     },
     "execution_count": 11,
     "metadata": {},
     "output_type": "execute_result"
    }
   ],
   "source": [
    "def generate_local_sample(row, frame, X, N=1000):\n",
    "    \n",
    "    \"\"\" Generates a perturbed sample around a row of interest.\n",
    "    \n",
    "    Args:\n",
    "        row: Row of H2OFrame to be explained.\n",
    "        frame: H2OFrame in which row is stored.\n",
    "        X: List of model input variables.\n",
    "        N: Number of samples to generate.\n",
    "    \n",
    "    Returns:\n",
    "        Pandas DataFrame containing perturbed sample.\n",
    "    \n",
    "    \"\"\"\n",
    "    \n",
    "    # random seed for reproducibility\n",
    "    np.random.seed(12345)\n",
    "    \n",
    "    # initialize Pandas DataFrame\n",
    "    sample_frame = pd.DataFrame(data=np.zeros(shape=(N, len(X))), columns=X)\n",
    "    \n",
    "    # generate column vectors of \n",
    "    # randomly drawn levels for categorical variables\n",
    "    # normally distributed numeric values around mean of column for numeric variables\n",
    "    for key, val in frame[X].types.items():\n",
    "        if val == 'enum': # 'enum' == categorical\n",
    "            draw = np.random.choice(frame[key].levels()[0], size=(1, N))[0]\n",
    "        else:\n",
    "            loc = row[key][0, 0]\n",
    "            sd = frame[key].sd()\n",
    "            draw = np.random.normal(loc, sd, (N, 1))\n",
    "            sample_frame[key] = draw\n",
    "        \n",
    "        sample_frame[key] = draw\n",
    "        \n",
    "    return sample_frame\n",
    "\n",
    "# run and display results\n",
    "perturbed_sample = generate_local_sample(row, test, X)\n",
    "perturbed_sample.head(n=3)"
   ]
  },
  {
   "cell_type": "markdown",
   "metadata": {},
   "source": [
    "#### Calculate distance between row of interest and perturbed sample"
   ]
  },
  {
   "cell_type": "code",
   "execution_count": 12,
   "metadata": {
    "collapsed": false
   },
   "outputs": [
    {
     "name": "stdout",
     "output_type": "stream",
     "text": [
      "Parse progress: |█████████████████████████████████████████████████████████| 100%\n"
     ]
    },
    {
     "data": {
      "text/html": [
       "<table>\n",
       "<thead>\n",
       "<tr><th style=\"text-align: right;\">  LIMIT_BAL</th><th style=\"text-align: right;\">     AGE</th><th style=\"text-align: right;\">  BILL_AMT1</th><th style=\"text-align: right;\">  BILL_AMT2</th><th style=\"text-align: right;\">  BILL_AMT3</th><th style=\"text-align: right;\">  BILL_AMT4</th><th style=\"text-align: right;\">  BILL_AMT5</th><th style=\"text-align: right;\">  BILL_AMT6</th><th style=\"text-align: right;\">  PAY_AMT1</th><th style=\"text-align: right;\">  PAY_AMT2</th><th style=\"text-align: right;\">  PAY_AMT3</th><th style=\"text-align: right;\">  PAY_AMT4</th><th style=\"text-align: right;\">  PAY_AMT5</th><th style=\"text-align: right;\">  PAY_AMT6</th><th style=\"text-align: right;\">  SEX_female</th><th style=\"text-align: right;\">  EDUCATION_graduate school</th><th style=\"text-align: right;\">  MARRIAGE_married</th><th style=\"text-align: right;\">  PAY_0_3 month delay</th><th style=\"text-align: right;\">  PAY_2_2 month delay</th><th style=\"text-align: right;\">  PAY_3_2 month delay</th><th style=\"text-align: right;\">  PAY_4_3 month delay</th><th style=\"text-align: right;\">  PAY_5_3 month delay</th><th style=\"text-align: right;\">  PAY_6_3 month delay</th></tr>\n",
       "</thead>\n",
       "<tbody>\n",
       "<tr><td style=\"text-align: right;\">    2.24639</td><td style=\"text-align: right;\">0.481433</td><td style=\"text-align: right;\">   -0.66112</td><td style=\"text-align: right;\">  -0.657958</td><td style=\"text-align: right;\">  -0.651883</td><td style=\"text-align: right;\">  -0.637776</td><td style=\"text-align: right;\">  -0.622867</td><td style=\"text-align: right;\">  -0.609179</td><td style=\"text-align: right;\"> -0.360791</td><td style=\"text-align: right;\"> -0.282325</td><td style=\"text-align: right;\"> -0.315203</td><td style=\"text-align: right;\"> -0.319038</td><td style=\"text-align: right;\"> -0.319074</td><td style=\"text-align: right;\"> -0.270536</td><td style=\"text-align: right;\">           1</td><td style=\"text-align: right;\">                          1</td><td style=\"text-align: right;\">                 1</td><td style=\"text-align: right;\">                    1</td><td style=\"text-align: right;\">                    1</td><td style=\"text-align: right;\">                    1</td><td style=\"text-align: right;\">                    1</td><td style=\"text-align: right;\">                    1</td><td style=\"text-align: right;\">                    1</td></tr>\n",
       "</tbody>\n",
       "</table>"
      ]
     },
     "metadata": {},
     "output_type": "display_data"
    },
    {
     "data": {
      "text/plain": []
     },
     "execution_count": 12,
     "metadata": {},
     "output_type": "execute_result"
    }
   ],
   "source": [
    "# scaling and one-hot encoding for calculating Euclidian distance\n",
    "\n",
    "# scale numeric\n",
    "numeric = list(set(X) - set(['ID', 'SEX', 'EDUCATION', 'MARRIAGE', 'PAY_0', 'PAY_2',\n",
    "                             'PAY_3', 'PAY_4', 'PAY_5', 'PAY_6', 'DEFAULT_NEXT_MONTH']))\n",
    "\n",
    "scaled_test = test.as_data_frame()\n",
    "scaled_test[numeric] = (scaled_test[numeric] - scaled_test[numeric].mean())/scaled_test[numeric].std()\n",
    "    \n",
    "# encode categorical\n",
    "row_df = scaled_test[scaled_test['ID'] == 22760]\n",
    "row_dummies = pd.concat([row_df.drop(['ID', 'SEX', 'EDUCATION', 'MARRIAGE', 'PAY_0', 'PAY_2',\n",
    "                                   'PAY_3', 'PAY_4', 'PAY_5', 'PAY_6', 'DEFAULT_NEXT_MONTH'], axis=1),\n",
    "                        pd.get_dummies(row_df[['SEX', 'EDUCATION', 'MARRIAGE', 'PAY_0',\n",
    "                                            'PAY_2', 'PAY_3', 'PAY_4', 'PAY_5', 'PAY_6']])], \n",
    "                        axis=1)\n",
    "\n",
    "# convert to H2OFrame\n",
    "row_dummies = h2o.H2OFrame(row_dummies)\n",
    "row_dummies"
   ]
  },
  {
   "cell_type": "code",
   "execution_count": 13,
   "metadata": {
    "collapsed": false
   },
   "outputs": [
    {
     "name": "stdout",
     "output_type": "stream",
     "text": [
      "Parse progress: |█████████████████████████████████████████████████████████| 100%\n"
     ]
    },
    {
     "data": {
      "text/html": [
       "<table>\n",
       "<thead>\n",
       "<tr><th style=\"text-align: right;\">  LIMIT_BAL</th><th style=\"text-align: right;\">      AGE</th><th style=\"text-align: right;\">  BILL_AMT1</th><th style=\"text-align: right;\">  BILL_AMT2</th><th style=\"text-align: right;\">  BILL_AMT3</th><th style=\"text-align: right;\">  BILL_AMT4</th><th style=\"text-align: right;\">  BILL_AMT5</th><th style=\"text-align: right;\">  BILL_AMT6</th><th style=\"text-align: right;\">  PAY_AMT1</th><th style=\"text-align: right;\">  PAY_AMT2</th><th style=\"text-align: right;\">  PAY_AMT3</th><th style=\"text-align: right;\">  PAY_AMT4</th><th style=\"text-align: right;\">  PAY_AMT5</th><th style=\"text-align: right;\">  PAY_AMT6</th><th style=\"text-align: right;\">  SEX_female</th><th style=\"text-align: right;\">  EDUCATION_graduate school</th><th style=\"text-align: right;\">  MARRIAGE_married</th><th style=\"text-align: right;\">  PAY_0_3 month delay</th><th style=\"text-align: right;\">  PAY_2_2 month delay</th><th style=\"text-align: right;\">  PAY_3_2 month delay</th><th style=\"text-align: right;\">  PAY_4_3 month delay</th><th style=\"text-align: right;\">  PAY_5_3 month delay</th><th style=\"text-align: right;\">  PAY_6_3 month delay</th></tr>\n",
       "</thead>\n",
       "<tbody>\n",
       "<tr><td style=\"text-align: right;\">  -0.504587</td><td style=\"text-align: right;\">-0.620572</td><td style=\"text-align: right;\">   -1.68966</td><td style=\"text-align: right;\">   1.70277 </td><td style=\"text-align: right;\">  -0.206496</td><td style=\"text-align: right;\">   1.02732 </td><td style=\"text-align: right;\">  -0.740498</td><td style=\"text-align: right;\">  -0.771679</td><td style=\"text-align: right;\"> -0.992472</td><td style=\"text-align: right;\">  0.53343 </td><td style=\"text-align: right;\">  0.695249</td><td style=\"text-align: right;\">  0.844421</td><td style=\"text-align: right;\">  0.666675</td><td style=\"text-align: right;\">-0.0795976</td><td style=\"text-align: right;\">           1</td><td style=\"text-align: right;\">                          0</td><td style=\"text-align: right;\">                 1</td><td style=\"text-align: right;\">                    0</td><td style=\"text-align: right;\">                    0</td><td style=\"text-align: right;\">                    0</td><td style=\"text-align: right;\">                    0</td><td style=\"text-align: right;\">                    0</td><td style=\"text-align: right;\">                    0</td></tr>\n",
       "<tr><td style=\"text-align: right;\">   0.370019</td><td style=\"text-align: right;\"> 0.359622</td><td style=\"text-align: right;\">    2.25381</td><td style=\"text-align: right;\">   0.372897</td><td style=\"text-align: right;\">   0.491138</td><td style=\"text-align: right;\">   0.60216 </td><td style=\"text-align: right;\">   1.76685 </td><td style=\"text-align: right;\">   0.562212</td><td style=\"text-align: right;\"> -1.82422 </td><td style=\"text-align: right;\"> -0.321021</td><td style=\"text-align: right;\"> -0.416056</td><td style=\"text-align: right;\">  2.0575  </td><td style=\"text-align: right;\"> -1.05491 </td><td style=\"text-align: right;\"> 1.95287  </td><td style=\"text-align: right;\">           1</td><td style=\"text-align: right;\">                          0</td><td style=\"text-align: right;\">                 1</td><td style=\"text-align: right;\">                    0</td><td style=\"text-align: right;\">                    1</td><td style=\"text-align: right;\">                    0</td><td style=\"text-align: right;\">                    0</td><td style=\"text-align: right;\">                    0</td><td style=\"text-align: right;\">                    0</td></tr>\n",
       "<tr><td style=\"text-align: right;\">   1.3157  </td><td style=\"text-align: right;\">-1.41889 </td><td style=\"text-align: right;\">    1.02438</td><td style=\"text-align: right;\">  -1.03671 </td><td style=\"text-align: right;\">  -0.527664</td><td style=\"text-align: right;\">   0.359364</td><td style=\"text-align: right;\">   0.846123</td><td style=\"text-align: right;\">  -0.439903</td><td style=\"text-align: right;\">  0.169014</td><td style=\"text-align: right;\">  0.280324</td><td style=\"text-align: right;\"> -0.716224</td><td style=\"text-align: right;\"> -1.43339 </td><td style=\"text-align: right;\"> -0.385529</td><td style=\"text-align: right;\"> 0.323177 </td><td style=\"text-align: right;\">           0</td><td style=\"text-align: right;\">                          0</td><td style=\"text-align: right;\">                 1</td><td style=\"text-align: right;\">                    0</td><td style=\"text-align: right;\">                    0</td><td style=\"text-align: right;\">                    0</td><td style=\"text-align: right;\">                    0</td><td style=\"text-align: right;\">                    0</td><td style=\"text-align: right;\">                    0</td></tr>\n",
       "</tbody>\n",
       "</table>"
      ]
     },
     "metadata": {},
     "output_type": "display_data"
    },
    {
     "data": {
      "text/plain": []
     },
     "execution_count": 13,
     "metadata": {},
     "output_type": "execute_result"
    }
   ],
   "source": [
    "# scaling and one-hot encoding for calculating Euclidian distance\n",
    "\n",
    "# scale\n",
    "scaled_perturbed_sample = perturbed_sample[numeric].copy(deep=True)\n",
    "scaled_perturbed_sample = (scaled_perturbed_sample - scaled_perturbed_sample.mean())/scaled_perturbed_sample.std()\n",
    "\n",
    "# encode\n",
    "perturbed_sample_dummies = pd.concat([scaled_perturbed_sample,\n",
    "                                      pd.get_dummies(perturbed_sample[['SEX', 'EDUCATION', 'MARRIAGE', 'PAY_0',\n",
    "                                                                       'PAY_2', 'PAY_3', 'PAY_4', 'PAY_5', 'PAY_6']])],\n",
    "                                     axis=1)\n",
    "\n",
    "# convert to H2OFrame\n",
    "perturbed_sample_dummies = h2o.H2OFrame(perturbed_sample_dummies[row_dummies.columns])\n",
    "perturbed_sample_dummies.head(rows=3)"
   ]
  },
  {
   "cell_type": "code",
   "execution_count": 14,
   "metadata": {
    "collapsed": false
   },
   "outputs": [
    {
     "data": {
      "text/html": [
       "<table>\n",
       "<thead>\n",
       "<tr><th style=\"text-align: right;\">  distance</th></tr>\n",
       "</thead>\n",
       "<tbody>\n",
       "<tr><td style=\"text-align: right;\">   36.5049</td></tr>\n",
       "<tr><td style=\"text-align: right;\">   24.0684</td></tr>\n",
       "<tr><td style=\"text-align: right;\">   45.3617</td></tr>\n",
       "</tbody>\n",
       "</table>"
      ]
     },
     "metadata": {},
     "output_type": "display_data"
    },
    {
     "data": {
      "text/plain": []
     },
     "execution_count": 14,
     "metadata": {},
     "output_type": "execute_result"
    }
   ],
   "source": [
    "# calculate distance using H2OFrame distance function\n",
    "distance = row_dummies.distance(perturbed_sample_dummies, measure='l2').transpose()\n",
    "distance.columns = ['distance']          # rename \n",
    "distance = distance.max() - distance     # lower distances, higher weight in LIME\n",
    "distance.head(rows=3)"
   ]
  },
  {
   "cell_type": "markdown",
   "metadata": {},
   "source": [
    "#### Bind distance weights onto perturbed sample"
   ]
  },
  {
   "cell_type": "code",
   "execution_count": 15,
   "metadata": {
    "collapsed": false
   },
   "outputs": [
    {
     "name": "stdout",
     "output_type": "stream",
     "text": [
      "Parse progress: |█████████████████████████████████████████████████████████| 100%\n"
     ]
    },
    {
     "data": {
      "text/html": [
       "<table>\n",
       "<thead>\n",
       "<tr><th style=\"text-align: right;\">  LIMIT_BAL</th><th>SEX   </th><th>EDUCATION  </th><th>MARRIAGE  </th><th style=\"text-align: right;\">    AGE</th><th>PAY_0                  </th><th>PAY_2        </th><th>PAY_3         </th><th>PAY_4        </th><th>PAY_5                  </th><th>PAY_6        </th><th style=\"text-align: right;\">  BILL_AMT1</th><th style=\"text-align: right;\">  BILL_AMT2</th><th style=\"text-align: right;\">  BILL_AMT3</th><th style=\"text-align: right;\">  BILL_AMT4</th><th style=\"text-align: right;\">  BILL_AMT5</th><th style=\"text-align: right;\">  BILL_AMT6</th><th style=\"text-align: right;\">  PAY_AMT1</th><th style=\"text-align: right;\">  PAY_AMT2</th><th style=\"text-align: right;\">  PAY_AMT3</th><th style=\"text-align: right;\">  PAY_AMT4</th><th style=\"text-align: right;\">  PAY_AMT5</th><th style=\"text-align: right;\">  PAY_AMT6</th><th style=\"text-align: right;\">  distance</th></tr>\n",
       "</thead>\n",
       "<tbody>\n",
       "<tr><td style=\"text-align: right;\">     398862</td><td>female</td><td>university </td><td>married   </td><td style=\"text-align: right;\">34.2026</td><td>use of revolving credit</td><td>4 month delay</td><td>4 month delay </td><td>4 month delay</td><td>pay duly               </td><td>2 month delay</td><td style=\"text-align: right;\">  -120145  </td><td style=\"text-align: right;\">   121135  </td><td style=\"text-align: right;\">   -11241  </td><td style=\"text-align: right;\">    69002.1</td><td style=\"text-align: right;\">   -41105.8</td><td style=\"text-align: right;\">   -47081.2</td><td style=\"text-align: right;\"> -15675.6 </td><td style=\"text-align: right;\">  12026.5 </td><td style=\"text-align: right;\">  12263.5 </td><td style=\"text-align: right;\">   12520.2</td><td style=\"text-align: right;\">  10421.7 </td><td style=\"text-align: right;\">  -1492.81</td><td style=\"text-align: right;\">   36.5049</td></tr>\n",
       "<tr><td style=\"text-align: right;\">     512390</td><td>female</td><td>university </td><td>married   </td><td style=\"text-align: right;\">43.5517</td><td>8 month delay          </td><td>2 month delay</td><td>pay duly      </td><td>8 month delay</td><td>7 month delay          </td><td>pay duly     </td><td style=\"text-align: right;\">   167129  </td><td style=\"text-align: right;\">    27155.9</td><td style=\"text-align: right;\">    35150  </td><td style=\"text-align: right;\">    42596.7</td><td style=\"text-align: right;\">   109970  </td><td style=\"text-align: right;\">    33298.6</td><td style=\"text-align: right;\"> -28833.1 </td><td style=\"text-align: right;\">  -6158.22</td><td style=\"text-align: right;\">  -6635.92</td><td style=\"text-align: right;\">   30838.8</td><td style=\"text-align: right;\"> -15778.2 </td><td style=\"text-align: right;\">  36259.9 </td><td style=\"text-align: right;\">   24.0684</td></tr>\n",
       "<tr><td style=\"text-align: right;\">     635145</td><td>male  </td><td>high school</td><td>married   </td><td style=\"text-align: right;\">26.5882</td><td>1 month delay          </td><td>6 month delay</td><td>no consumption</td><td>2 month delay</td><td>use of revolving credit</td><td>7 month delay</td><td style=\"text-align: right;\">    77567.9</td><td style=\"text-align: right;\">   -72457.7</td><td style=\"text-align: right;\">   -32597.9</td><td style=\"text-align: right;\">    27517.4</td><td style=\"text-align: right;\">    54493.5</td><td style=\"text-align: right;\">   -27088.5</td><td style=\"text-align: right;\">   2697.98</td><td style=\"text-align: right;\">   6639.84</td><td style=\"text-align: right;\"> -11740.7 </td><td style=\"text-align: right;\">  -21876.8</td><td style=\"text-align: right;\">  -5591.24</td><td style=\"text-align: right;\">   5988.64</td><td style=\"text-align: right;\">   45.3617</td></tr>\n",
       "</tbody>\n",
       "</table>"
      ]
     },
     "metadata": {},
     "output_type": "display_data"
    },
    {
     "data": {
      "text/plain": []
     },
     "execution_count": 15,
     "metadata": {},
     "output_type": "execute_result"
    }
   ],
   "source": [
    "perturbed_sample = h2o.H2OFrame(perturbed_sample).cbind(distance)\n",
    "perturbed_sample.head(rows=3)"
   ]
  },
  {
   "cell_type": "markdown",
   "metadata": {},
   "source": [
    "#### Bind model predictions onto perturbed sample"
   ]
  },
  {
   "cell_type": "code",
   "execution_count": 16,
   "metadata": {
    "collapsed": false
   },
   "outputs": [
    {
     "name": "stdout",
     "output_type": "stream",
     "text": [
      "gbm prediction progress: |████████████████████████████████████████████████| 100%\n"
     ]
    },
    {
     "data": {
      "text/html": [
       "<table>\n",
       "<thead>\n",
       "<tr><th style=\"text-align: right;\">  LIMIT_BAL</th><th>SEX   </th><th>EDUCATION  </th><th>MARRIAGE  </th><th style=\"text-align: right;\">    AGE</th><th>PAY_0                  </th><th>PAY_2        </th><th>PAY_3         </th><th>PAY_4        </th><th>PAY_5                  </th><th>PAY_6        </th><th style=\"text-align: right;\">  BILL_AMT1</th><th style=\"text-align: right;\">  BILL_AMT2</th><th style=\"text-align: right;\">  BILL_AMT3</th><th style=\"text-align: right;\">  BILL_AMT4</th><th style=\"text-align: right;\">  BILL_AMT5</th><th style=\"text-align: right;\">  BILL_AMT6</th><th style=\"text-align: right;\">  PAY_AMT1</th><th style=\"text-align: right;\">  PAY_AMT2</th><th style=\"text-align: right;\">  PAY_AMT3</th><th style=\"text-align: right;\">  PAY_AMT4</th><th style=\"text-align: right;\">  PAY_AMT5</th><th style=\"text-align: right;\">  PAY_AMT6</th><th style=\"text-align: right;\">  distance</th><th style=\"text-align: right;\">  p_DEFAULT_NEXT_MONTH</th></tr>\n",
       "</thead>\n",
       "<tbody>\n",
       "<tr><td style=\"text-align: right;\">     398862</td><td>female</td><td>university </td><td>married   </td><td style=\"text-align: right;\">34.2026</td><td>use of revolving credit</td><td>4 month delay</td><td>4 month delay </td><td>4 month delay</td><td>pay duly               </td><td>2 month delay</td><td style=\"text-align: right;\">  -120145  </td><td style=\"text-align: right;\">   121135  </td><td style=\"text-align: right;\">   -11241  </td><td style=\"text-align: right;\">    69002.1</td><td style=\"text-align: right;\">   -41105.8</td><td style=\"text-align: right;\">   -47081.2</td><td style=\"text-align: right;\"> -15675.6 </td><td style=\"text-align: right;\">  12026.5 </td><td style=\"text-align: right;\">  12263.5 </td><td style=\"text-align: right;\">   12520.2</td><td style=\"text-align: right;\">  10421.7 </td><td style=\"text-align: right;\">  -1492.81</td><td style=\"text-align: right;\">   36.5049</td><td style=\"text-align: right;\">              0.262945</td></tr>\n",
       "<tr><td style=\"text-align: right;\">     512390</td><td>female</td><td>university </td><td>married   </td><td style=\"text-align: right;\">43.5517</td><td>8 month delay          </td><td>2 month delay</td><td>pay duly      </td><td>8 month delay</td><td>7 month delay          </td><td>pay duly     </td><td style=\"text-align: right;\">   167129  </td><td style=\"text-align: right;\">    27155.9</td><td style=\"text-align: right;\">    35150  </td><td style=\"text-align: right;\">    42596.7</td><td style=\"text-align: right;\">   109970  </td><td style=\"text-align: right;\">    33298.6</td><td style=\"text-align: right;\"> -28833.1 </td><td style=\"text-align: right;\">  -6158.22</td><td style=\"text-align: right;\">  -6635.92</td><td style=\"text-align: right;\">   30838.8</td><td style=\"text-align: right;\"> -15778.2 </td><td style=\"text-align: right;\">  36259.9 </td><td style=\"text-align: right;\">   24.0684</td><td style=\"text-align: right;\">              0.602775</td></tr>\n",
       "<tr><td style=\"text-align: right;\">     635145</td><td>male  </td><td>high school</td><td>married   </td><td style=\"text-align: right;\">26.5882</td><td>1 month delay          </td><td>6 month delay</td><td>no consumption</td><td>2 month delay</td><td>use of revolving credit</td><td>7 month delay</td><td style=\"text-align: right;\">    77567.9</td><td style=\"text-align: right;\">   -72457.7</td><td style=\"text-align: right;\">   -32597.9</td><td style=\"text-align: right;\">    27517.4</td><td style=\"text-align: right;\">    54493.5</td><td style=\"text-align: right;\">   -27088.5</td><td style=\"text-align: right;\">   2697.98</td><td style=\"text-align: right;\">   6639.84</td><td style=\"text-align: right;\"> -11740.7 </td><td style=\"text-align: right;\">  -21876.8</td><td style=\"text-align: right;\">  -5591.24</td><td style=\"text-align: right;\">   5988.64</td><td style=\"text-align: right;\">   45.3617</td><td style=\"text-align: right;\">              0.458496</td></tr>\n",
       "</tbody>\n",
       "</table>"
      ]
     },
     "metadata": {},
     "output_type": "display_data"
    },
    {
     "data": {
      "text/plain": []
     },
     "execution_count": 16,
     "metadata": {},
     "output_type": "execute_result"
    }
   ],
   "source": [
    "yhat = 'p_DEFAULT_NEXT_MONTH'\n",
    "preds1 = model.predict(perturbed_sample).drop(['predict', 'p0'])\n",
    "preds1.columns = [yhat]\n",
    "perturbed_sample = perturbed_sample.cbind(preds1)\n",
    "perturbed_sample.head(rows=3)"
   ]
  },
  {
   "cell_type": "markdown",
   "metadata": {},
   "source": [
    "#### Train penalized linear model in local region \n",
    "* Check R<sup>2</sup> to ensure surrogate model is a good fit for predictions\n",
    "* Use ranked predictions plot to ensure surrogate model is a good fit for predictions\n",
    "* Use trained GLM and coefficients to understand local region of response function"
   ]
  },
  {
   "cell_type": "code",
   "execution_count": 17,
   "metadata": {
    "collapsed": false
   },
   "outputs": [
    {
     "name": "stdout",
     "output_type": "stream",
     "text": [
      "glm Model Build progress: |███████████████████████████████████████████████| 100%\n",
      "\n",
      "Local GLM Coefficients:\n",
      "EDUCATION.other:          -0.1777448316974484\n",
      "PAY_3.5 month delay:      -0.13520042087527495\n",
      "MARRIAGE.other:           -0.1260172540446632\n",
      "PAY_0.no consumption:     -0.09564167758193708\n",
      "PAY_2.pay duly:           -0.08540158421448343\n",
      "PAY_2.8 month delay:      -0.0760075948488323\n",
      "PAY_3.1 month delay:      -0.07164420121442741\n",
      "PAY_5.no consumption:     -0.07096695820463414\n",
      "PAY_0.use of revolving credit: -0.07095076697520478\n",
      "PAY_0.pay duly:           -0.07078650997655897\n",
      "PAY_5.pay duly:           -0.06979591969667645\n",
      "PAY_2.4 month delay:      -0.06839377326791286\n",
      "PAY_0.1 month delay:      -0.06689613251816745\n",
      "PAY_3.pay duly:           -0.04617769827959663\n",
      "PAY_6.pay duly:           -0.03943251521874988\n",
      "PAY_3.no consumption:     -0.03736988178577362\n",
      "PAY_5.4 month delay:      -0.03650475011906789\n",
      "PAY_4.8 month delay:      -0.03383510262416892\n",
      "PAY_5.use of revolving credit: -0.032207714562661874\n",
      "PAY_4.6 month delay:      -0.03206611177195627\n",
      "PAY_4.1 month delay:      -0.03049942100819707\n",
      "PAY_4.5 month delay:      -0.026612321371689555\n",
      "PAY_2.1 month delay:      -0.025400759086748832\n",
      "PAY_0.6 month delay:      -0.024922937030540316\n",
      "PAY_6.use of revolving credit: -0.024658688239892774\n",
      "PAY_2.no consumption:     -0.023388135227937465\n",
      "PAY_4.7 month delay:      -0.017594354241472508\n",
      "PAY_6.no consumption:     -0.014860039246912302\n",
      "PAY_5.7 month delay:      -0.00932909405186157\n",
      "PAY_6.7 month delay:      -0.004681366977273291\n",
      "PAY_3.4 month delay:      -0.0018933742308537343\n",
      "PAY_6.2 month delay:      -0.0012822142258401895\n",
      "SEX.female:               -0.0008307758302561251\n",
      "AGE:                      -0.0002479784801744925\n",
      "PAY_AMT3:                 -9.211982690980492e-07\n",
      "PAY_AMT2:                 -8.778102569716301e-07\n",
      "BILL_AMT4:                -5.727651313137932e-07\n",
      "BILL_AMT3:                -4.435318366901722e-07\n",
      "BILL_AMT2:                -2.990989460385558e-07\n",
      "PAY_AMT1:                 -2.635611370385138e-07\n",
      "PAY_AMT6:                 -2.401653254680849e-07\n",
      "BILL_AMT1:                -1.6620274264693773e-07\n",
      "LIMIT_BAL:                -5.09292047762726e-08\n",
      "PAY_AMT5:                 -4.5512355293935105e-08\n",
      "BILL_AMT6:                7.528779523424604e-08\n",
      "PAY_AMT4:                 1.6969852319716355e-07\n",
      "BILL_AMT5:                2.1351225353740742e-07\n",
      "PAY_6.8 month delay:      0.00022607475347252617\n",
      "SEX.male:                 0.0010451392592675135\n",
      "MARRIAGE.married:         0.0013737634029763659\n",
      "PAY_2.3 month delay:      0.0015538238174332996\n",
      "PAY_3.3 month delay:      0.0025274282083070604\n",
      "PAY_3.7 month delay:      0.003967071428102354\n",
      "PAY_2.6 month delay:      0.004806406809893344\n",
      "PAY_6.5 month delay:      0.007134075021251487\n",
      "PAY_4.4 month delay:      0.009950337890443441\n",
      "PAY_3.6 month delay:      0.012602812983995008\n",
      "PAY_3.use of revolving credit: 0.012829061768434326\n",
      "PAY_6.4 month delay:      0.014340746330796891\n",
      "PAY_2.2 month delay:      0.01611875005163963\n",
      "PAY_5.3 month delay:      0.01908518635534414\n",
      "PAY_2.5 month delay:      0.01960256298680267\n",
      "PAY_5.8 month delay:      0.01986710938194378\n",
      "PAY_4.3 month delay:      0.02007931908418569\n",
      "PAY_4.use of revolving credit: 0.020227719693420954\n",
      "PAY_4.no consumption:     0.020368337640223517\n",
      "PAY_2.7 month delay:      0.021636093150653797\n",
      "PAY_5.2 month delay:      0.02387922882497355\n",
      "EDUCATION.graduate school: 0.02472141435514307\n",
      "PAY_3.2 month delay:      0.025373011764061912\n",
      "PAY_6.6 month delay:      0.029954496170294696\n",
      "PAY_4.2 month delay:      0.051877876066870734\n",
      "PAY_5.5 month delay:      0.05499518406708181\n",
      "PAY_5.6 month delay:      0.09275137450463272\n",
      "PAY_6.3 month delay:      0.11891337015940792\n",
      "PAY_0.8 month delay:      0.16751357308696935\n",
      "PAY_0.7 month delay:      0.18858919733805699\n",
      "PAY_0.3 month delay:      0.19077787024392512\n",
      "PAY_0.2 month delay:      0.1927620529252562\n",
      "PAY_0.4 month delay:      0.19406739144998678\n",
      "Intercept:                0.47135859688689263\n",
      "\n",
      "Local GLM R-square:\n",
      "0.70\n"
     ]
    }
   ],
   "source": [
    "# initialize\n",
    "local_glm1 = H2OGeneralizedLinearEstimator(lambda_search=True, \n",
    "                                           weights_column='distance',\n",
    "                                           seed=12345)\n",
    "# train \n",
    "local_glm1.train(x=X, y=yhat, training_frame=perturbed_sample)\n",
    "\n",
    "# coefs\n",
    "print('\\nLocal GLM Coefficients:')\n",
    "for c_name, c_val in sorted(local_glm1.coef().items(), key=operator.itemgetter(1)):\n",
    "    if c_val != 0.0:\n",
    "        print('%s %s' % (str(c_name + ':').ljust(25), c_val))\n",
    "        \n",
    "# r2\n",
    "print('\\nLocal GLM R-square:\\n%.2f' % local_glm1.r2())"
   ]
  },
  {
   "cell_type": "markdown",
   "metadata": {},
   "source": [
    "## 4. Generate reason codes with LIME based on a perturbed sample"
   ]
  },
  {
   "cell_type": "code",
   "execution_count": 18,
   "metadata": {
    "collapsed": true
   },
   "outputs": [],
   "source": [
    "def plot_local_contrib(row, model, X): \n",
    "\n",
    "    \"\"\" Plots reason codes in a bar chart. \n",
    "    \n",
    "    Args:\n",
    "    \n",
    "        row: Row of H2OFrame to be explained.\n",
    "        model: H2O linear model used for generating reason codes.\n",
    "        X: List of model input variables.\n",
    "    \n",
    "    \"\"\"\n",
    "    \n",
    "    # initialize Pandas DataFrame to store results\n",
    "    local_contrib_frame = pd.DataFrame(columns=['Name', 'Local Contribution', 'Sign'])\n",
    "    \n",
    "    # multiply values in row by local glm coefficients    \n",
    "    for key, val in sorted(row[X].types.items()):\n",
    "        contrib = 0\n",
    "        name = ''\n",
    "        if val == 'enum':\n",
    "                level = row[key][0, 0]\n",
    "                name = '.'.join([str(key), str(level)])\n",
    "                if name in model.coef():\n",
    "                    contrib = model.coef()[name]\n",
    "        else:\n",
    "            name = key\n",
    "            if name in model.coef():\n",
    "                contrib = row[name][0, 0]*model.coef()[name]\n",
    "        \n",
    "        # save only non-zero values\n",
    "        if contrib != 0.0:\n",
    "            local_contrib_frame = local_contrib_frame.append({'Name': name,\n",
    "                                                              'Local Contribution': contrib,\n",
    "                                                              'Sign': contrib > 0}, \n",
    "                                                             ignore_index=True)  \n",
    "    # plot\n",
    "    _ = local_contrib_frame.plot(x='Name',\n",
    "                                 y='Local Contribution',\n",
    "                                 kind='bar', \n",
    "                                 title='Reason Codes', \n",
    "                                 color=''.join(local_contrib_frame.Sign.map({True:'b', False:'g'}).values), \n",
    "                                 legend=False) \n",
    "    "
   ]
  },
  {
   "cell_type": "markdown",
   "metadata": {},
   "source": [
    "#### Display reason codes"
   ]
  },
  {
   "cell_type": "code",
   "execution_count": 19,
   "metadata": {
    "collapsed": false
   },
   "outputs": [
    {
     "data": {
      "image/png": "[encoded data removed]",
      "text/plain": [
       "<matplotlib.figure.Figure at 0x1167344a8>"
      ]
     },
     "metadata": {},
     "output_type": "display_data"
    }
   ],
   "source": [
    "plot_local_contrib(row, local_glm1, X)"
   ]
  },
  {
   "cell_type": "markdown",
   "metadata": {},
   "source": [
    "## 5. Use LIME to generate descriptions for a local region with a practical sample"
   ]
  },
  {
   "cell_type": "markdown",
   "metadata": {},
   "source": [
    "#### Create a local region based on values of SEX"
   ]
  },
  {
   "cell_type": "code",
   "execution_count": 20,
   "metadata": {
    "collapsed": false
   },
   "outputs": [
    {
     "name": "stdout",
     "output_type": "stream",
     "text": [
      "gbm prediction progress: |████████████████████████████████████████████████| 100%\n"
     ]
    },
    {
     "data": {
      "text/html": [
       "<table>\n",
       "<thead>\n",
       "<tr><th style=\"text-align: right;\">  ID</th><th style=\"text-align: right;\">  LIMIT_BAL</th><th>SEX   </th><th>EDUCATION  </th><th>MARRIAGE  </th><th style=\"text-align: right;\">  AGE</th><th>PAY_0                  </th><th>PAY_2                  </th><th>PAY_3                  </th><th>PAY_4                  </th><th>PAY_5                  </th><th>PAY_6                  </th><th style=\"text-align: right;\">  BILL_AMT1</th><th style=\"text-align: right;\">  BILL_AMT2</th><th style=\"text-align: right;\">  BILL_AMT3</th><th style=\"text-align: right;\">  BILL_AMT4</th><th style=\"text-align: right;\">  BILL_AMT5</th><th style=\"text-align: right;\">  BILL_AMT6</th><th style=\"text-align: right;\">  PAY_AMT1</th><th style=\"text-align: right;\">  PAY_AMT2</th><th style=\"text-align: right;\">  PAY_AMT3</th><th style=\"text-align: right;\">  PAY_AMT4</th><th style=\"text-align: right;\">  PAY_AMT5</th><th style=\"text-align: right;\">  PAY_AMT6</th><th style=\"text-align: right;\">  DEFAULT_NEXT_MONTH</th><th style=\"text-align: right;\">  p_DEFAULT_NEXT_MONTH</th></tr>\n",
       "</thead>\n",
       "<tbody>\n",
       "<tr><td style=\"text-align: right;\">   4</td><td style=\"text-align: right;\">      50000</td><td>female</td><td>university </td><td>married   </td><td style=\"text-align: right;\">   37</td><td>use of revolving credit</td><td>use of revolving credit</td><td>use of revolving credit</td><td>use of revolving credit</td><td>use of revolving credit</td><td>use of revolving credit</td><td style=\"text-align: right;\">      46990</td><td style=\"text-align: right;\">      48233</td><td style=\"text-align: right;\">      49291</td><td style=\"text-align: right;\">      28314</td><td style=\"text-align: right;\">      28959</td><td style=\"text-align: right;\">      29547</td><td style=\"text-align: right;\">      2000</td><td style=\"text-align: right;\">      2019</td><td style=\"text-align: right;\">      1200</td><td style=\"text-align: right;\">      1100</td><td style=\"text-align: right;\">      1069</td><td style=\"text-align: right;\">      1000</td><td style=\"text-align: right;\">                   0</td><td style=\"text-align: right;\">              0.140901</td></tr>\n",
       "<tr><td style=\"text-align: right;\">   8</td><td style=\"text-align: right;\">     100000</td><td>female</td><td>university </td><td>single    </td><td style=\"text-align: right;\">   23</td><td>use of revolving credit</td><td>pay duly               </td><td>pay duly               </td><td>use of revolving credit</td><td>use of revolving credit</td><td>pay duly               </td><td style=\"text-align: right;\">      11876</td><td style=\"text-align: right;\">        380</td><td style=\"text-align: right;\">        601</td><td style=\"text-align: right;\">        221</td><td style=\"text-align: right;\">       -159</td><td style=\"text-align: right;\">        567</td><td style=\"text-align: right;\">       380</td><td style=\"text-align: right;\">       601</td><td style=\"text-align: right;\">         0</td><td style=\"text-align: right;\">       581</td><td style=\"text-align: right;\">      1687</td><td style=\"text-align: right;\">      1542</td><td style=\"text-align: right;\">                   0</td><td style=\"text-align: right;\">              0.127073</td></tr>\n",
       "<tr><td style=\"text-align: right;\">  16</td><td style=\"text-align: right;\">      50000</td><td>female</td><td>high school</td><td>divorced  </td><td style=\"text-align: right;\">   23</td><td>1 month delay          </td><td>2 month delay          </td><td>use of revolving credit</td><td>use of revolving credit</td><td>use of revolving credit</td><td>use of revolving credit</td><td style=\"text-align: right;\">      50614</td><td style=\"text-align: right;\">      29173</td><td style=\"text-align: right;\">      28116</td><td style=\"text-align: right;\">      28771</td><td style=\"text-align: right;\">      29531</td><td style=\"text-align: right;\">      30211</td><td style=\"text-align: right;\">         0</td><td style=\"text-align: right;\">      1500</td><td style=\"text-align: right;\">      1100</td><td style=\"text-align: right;\">      1200</td><td style=\"text-align: right;\">      1300</td><td style=\"text-align: right;\">      1100</td><td style=\"text-align: right;\">                   0</td><td style=\"text-align: right;\">              0.324106</td></tr>\n",
       "</tbody>\n",
       "</table>"
      ]
     },
     "metadata": {},
     "output_type": "display_data"
    },
    {
     "data": {
      "text/plain": []
     },
     "execution_count": 20,
     "metadata": {},
     "output_type": "execute_result"
    }
   ],
   "source": [
    "preds2 = model.predict(test).drop(['predict', 'p0'])\n",
    "preds2.columns = [yhat]\n",
    "practical_sample = test.cbind(preds2)\n",
    "practical_sample = practical_sample[practical_sample['SEX'] == 'female']\n",
    "practical_sample.head(rows=3)"
   ]
  },
  {
   "cell_type": "markdown",
   "metadata": {},
   "source": [
    "#### Train penalized linear model in local region \n",
    "* Check R<sup>2</sup> to ensure surrogate model is a good fit for predictions\n",
    "* Use ranked predictions plot to ensure surrogate model is a good fit for predictions\n",
    "* Use trained GLM and coefficients to understand local region of response function"
   ]
  },
  {
   "cell_type": "code",
   "execution_count": 21,
   "metadata": {
    "collapsed": false
   },
   "outputs": [
    {
     "name": "stdout",
     "output_type": "stream",
     "text": [
      "glm Model Build progress: |███████████████████████████████████████████████| 100%\n",
      "\n",
      "Local GLM Coefficients:\n",
      "PAY_0.use of revolving credit: -0.16775580954325947\n",
      "PAY_0.no consumption:     -0.1323542340598967\n",
      "PAY_0.6 month delay:      -0.11220286368289245\n",
      "PAY_2.1 month delay:      -0.08831872313900825\n",
      "MARRIAGE.other:           -0.08784450962857498\n",
      "EDUCATION.other:          -0.08114362364582278\n",
      "PAY_2.4 month delay:      -0.0806475367218149\n",
      "PAY_0.pay duly:           -0.07959424728516759\n",
      "PAY_5.4 month delay:      -0.06128728736591248\n",
      "PAY_3.pay duly:           -0.061060652716959624\n",
      "PAY_3.no consumption:     -0.05841739923108431\n",
      "PAY_3.use of revolving credit: -0.05154202406269774\n",
      "PAY_6.use of revolving credit: -0.04234293755363527\n",
      "PAY_2.pay duly:           -0.03903724331829024\n",
      "PAY_6.pay duly:           -0.028048311352438886\n",
      "PAY_5.pay duly:           -0.025456344679026\n",
      "PAY_2.no consumption:     -0.0218123016124077\n",
      "PAY_5.use of revolving credit: -0.019439814832914633\n",
      "PAY_4.pay duly:           -0.017141312737790484\n",
      "PAY_4.3 month delay:      -0.015305164144452193\n",
      "PAY_4.5 month delay:      -0.014417749588808985\n",
      "PAY_5.no consumption:     -0.010581929503708279\n",
      "PAY_0.1 month delay:      -0.00894922440275228\n",
      "PAY_4.use of revolving credit: -0.007632527017714673\n",
      "PAY_3.4 month delay:      -0.006290636386765378\n",
      "PAY_4.no consumption:     -0.00523652770877702\n",
      "PAY_6.no consumption:     -0.0016890953362396794\n",
      "PAY_AMT1:                 -5.156975488590137e-07\n",
      "PAY_AMT4:                 -3.318760596397985e-07\n",
      "BILL_AMT6:                -2.1911401637520343e-07\n",
      "LIMIT_BAL:                -2.147177760192432e-07\n",
      "PAY_AMT3:                 -1.7517509515922687e-07\n",
      "PAY_AMT6:                 -1.6588011886710647e-07\n",
      "PAY_AMT5:                 -1.4265498310004594e-07\n",
      "PAY_AMT2:                 -9.300861862763131e-08\n",
      "BILL_AMT1:                -5.1691740945216785e-08\n",
      "BILL_AMT4:                -4.8387407020548175e-08\n",
      "BILL_AMT3:                -2.1965714568254093e-08\n",
      "BILL_AMT2:                2.1061428435694808e-07\n",
      "BILL_AMT5:                2.745026724113651e-07\n",
      "MARRIAGE.single:          2.57265792843216e-05\n",
      "EDUCATION.high school:    0.00019329582457347535\n",
      "EDUCATION.graduate school: 0.00021919801409549857\n",
      "AGE:                      0.0007076978034874466\n",
      "EDUCATION.university:     0.005443719044005316\n",
      "PAY_3.2 month delay:      0.008119231342258497\n",
      "PAY_2.3 month delay:      0.01101713288422613\n",
      "MARRIAGE.divorced:        0.011969126673019814\n",
      "MARRIAGE.married:         0.012523406897660906\n",
      "PAY_6.2 month delay:      0.015686865661953608\n",
      "PAY_3.7 month delay:      0.019409494413335664\n",
      "PAY_6.4 month delay:      0.01954036715053502\n",
      "PAY_4.4 month delay:      0.024877309817905282\n",
      "PAY_2.2 month delay:      0.025017381459838027\n",
      "PAY_5.2 month delay:      0.03724506035220801\n",
      "PAY_3.3 month delay:      0.0390582084328925\n",
      "PAY_4.2 month delay:      0.04464092422073328\n",
      "PAY_5.3 month delay:      0.05028259092527407\n",
      "PAY_5.7 month delay:      0.05405101935955941\n",
      "PAY_3.6 month delay:      0.0542059323757953\n",
      "PAY_4.7 month delay:      0.06758691069772894\n",
      "PAY_6.5 month delay:      0.07714869212787769\n",
      "PAY_2.7 month delay:      0.08017396925873799\n",
      "PAY_0.5 month delay:      0.081803974191881\n",
      "PAY_0.8 month delay:      0.12606439276512416\n",
      "PAY_6.3 month delay:      0.13266722621066152\n",
      "PAY_2.6 month delay:      0.16466165056983423\n",
      "PAY_2.5 month delay:      0.19278836049380269\n",
      "PAY_0.2 month delay:      0.2882822681794622\n",
      "PAY_0.4 month delay:      0.29068002638154117\n",
      "PAY_0.3 month delay:      0.3125469198150866\n",
      "Intercept:                0.396805858390938\n",
      "\n",
      "Local GLM R-square:\n",
      "0.91\n"
     ]
    }
   ],
   "source": [
    "# initialize\n",
    "local_glm2 = H2OGeneralizedLinearEstimator(lambda_search=True, seed=12345)\n",
    "\n",
    "# train \n",
    "local_glm2.train(x=X, y=yhat, training_frame=practical_sample)\n",
    "\n",
    "# coefs\n",
    "print('\\nLocal GLM Coefficients:')\n",
    "for c_name, c_val in sorted(local_glm2.coef().items(), key=operator.itemgetter(1)):\n",
    "    if c_val != 0.0:\n",
    "        print('%s %s' % (str(c_name + ':').ljust(25), c_val))\n",
    "        \n",
    "# r2\n",
    "print('\\nLocal GLM R-square:\\n%.2f' % local_glm2.r2())"
   ]
  },
  {
   "cell_type": "markdown",
   "metadata": {},
   "source": [
    "## 6. Generate a ranked predictions plot to assess validity of local explanatory model"
   ]
  },
  {
   "cell_type": "code",
   "execution_count": 22,
   "metadata": {
    "collapsed": false
   },
   "outputs": [
    {
     "name": "stdout",
     "output_type": "stream",
     "text": [
      "glm prediction progress: |████████████████████████████████████████████████| 100%\n"
     ]
    },
    {
     "data": {
      "image/png": "[encoded data removed]",
      "text/plain": [
       "<matplotlib.figure.Figure at 0x1164abc18>"
      ]
     },
     "metadata": {},
     "output_type": "display_data"
    }
   ],
   "source": [
    "# ranked predictions plot\n",
    "pred_frame = local_glm2.predict(practical_sample).cbind(practical_sample)\\\n",
    "                       .as_data_frame()[['predict', yhat  ]]\n",
    "\n",
    "pred_frame.columns = ['Surrogate Preds.', 'ML Preds.']\n",
    "pred_frame.sort_values(by='ML Preds.', inplace=True)\n",
    "pred_frame.reset_index(inplace=True, drop=True)\n",
    "_ = pred_frame.plot(title='Ranked Predictions Plot')"
   ]
  },
  {
   "cell_type": "markdown",
   "metadata": {},
   "source": [
    "A ranked predictions plot is a way to visually check whether the surrogate model is a good fit for the complex model. The y-axis is the numeric prediction of both models for a given point. The x-axis is the rank of a point when the predictions are sorted by their GBM prediction, from lowest on the left to highest on the right. When both sets of predictions are aligned, as they are above, this a good indication that the linear model fits the complex, nonlinear GBM well in the approximately local region."
   ]
  },
  {
   "cell_type": "markdown",
   "metadata": {},
   "source": [
    "Both the R<sup>2</sup> and ranked predictions plot show the linear model is a good fit in the practical, approximately local sample. This means the regression coefficients are likely a very accurate representation of the behavior of the nonlinear model in this region."
   ]
  },
  {
   "cell_type": "markdown",
   "metadata": {},
   "source": [
    "## 7. Generate reason codes using a practical sample"
   ]
  },
  {
   "cell_type": "markdown",
   "metadata": {},
   "source": [
    "#### Create explanations (or 'reason codes') for a row in the local set\n",
    "The local glm coefficient multiplied by the value in a specific row are estimates of how much each variable contributed to each prediction decision. These values can tell you how a variable and it's values were weighted in any given decision by the model. These values are crucially important for machine learning interpretability and are often to referred to \"local feature importance\", \"reason codes\", or \"turn-down codes.\" The latter phrases are borrowed from credit scoring. Credit lenders must provide reasons for turning down a credit application, even for automated decisions. Reason codes can be easily extracted from LIME local feature importance values, by simply ranking the variables that played the largest role in any given decision."
   ]
  },
  {
   "cell_type": "code",
   "execution_count": 23,
   "metadata": {
    "collapsed": false
   },
   "outputs": [
    {
     "data": {
      "image/png": "[encoded data removed]",
      "text/plain": [
       "<matplotlib.figure.Figure at 0x119174828>"
      ]
     },
     "metadata": {},
     "output_type": "display_data"
    }
   ],
   "source": [
    "plot_local_contrib(row, local_glm2, X)                                                             "
   ]
  },
  {
   "cell_type": "markdown",
   "metadata": {},
   "source": [
    "#### Shutdown H2O\n",
    "After using h2o, it's typically best to shut it down. However, before doing so, users should ensure that they have saved any h2o data structures, such as models, H2OFrames, or scoring artifacts."
   ]
  },
  {
   "cell_type": "code",
   "execution_count": 24,
   "metadata": {
    "collapsed": false
   },
   "outputs": [
    {
     "name": "stdout",
     "output_type": "stream",
     "text": [
      "Are you sure you want to shutdown the H2O instance running at http://127.0.0.1:54321 (Y/N)? y\n",
      "H2O session _sid_9db7 closed.\n"
     ]
    }
   ],
   "source": [
    "# be careful, this can erase your work!\n",
    "h2o.cluster().shutdown(prompt=True)"
   ]
  },
  {
   "cell_type": "markdown",
   "metadata": {},
   "source": [
    "#### Summary"
   ]
  }
 ],
 "metadata": {
  "anaconda-cloud": {},
  "kernelspec": {
   "display_name": "Python [conda root]",
   "language": "python",
   "name": "conda-root-py"
  },
  "language_info": {
   "codemirror_mode": {
    "name": "ipython",
    "version": 3
   },
   "file_extension": ".py",
   "mimetype": "text/x-python",
   "name": "python",
   "nbconvert_exporter": "python",
   "pygments_lexer": "ipython3",
   "version": "3.5.2"
  }
 },
 "nbformat": 4,
 "nbformat_minor": 2
}
