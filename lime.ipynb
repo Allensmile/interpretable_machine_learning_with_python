{
 "cells": [
  {
   "cell_type": "markdown",
   "metadata": {},
   "source": [
    "# Local Interpretable Model Agnostic Explanations (LIME)"
   ]
  },
  {
   "cell_type": "markdown",
   "metadata": {},
   "source": [
    "## License \n",
    "\n",
    "Copyright 2017 J. Patrick Hall, jphall@gwu.edu\n",
    "\n",
    "Permission is hereby granted, free of charge, to any person obtaining a copy of this software and associated documentation files (the \"Software\"), to deal in the Software without restriction, including without limitation the rights to use, copy, modify, merge, publish, distribute, sublicense, and/or sell copies of the Software, and to permit persons to whom the Software is furnished to do so, subject to the following conditions:\n",
    "\n",
    "The above copyright notice and this permission notice shall be included in all copies or substantial portions of the Software.\n",
    "\n",
    "THE SOFTWARE IS PROVIDED \"AS IS\", WITHOUT WARRANTY OF ANY KIND, EXPRESS OR IMPLIED, INCLUDING BUT NOT LIMITED TO THE WARRANTIES OF MERCHANTABILITY, FITNESS FOR A PARTICULAR PURPOSE AND NONINFRINGEMENT. IN NO EVENT SHALL THE AUTHORS OR COPYRIGHT HOLDERS BE LIABLE FOR ANY CLAIM, DAMAGES OR OTHER LIABILITY, WHETHER IN AN ACTION OF CONTRACT, TORT OR OTHERWISE, ARISING FROM, OUT OF OR IN CONNECTION WITH THE SOFTWARE OR THE USE OR OTHER DEALINGS IN THE SOFTWARE."
   ]
  },
  {
   "cell_type": "markdown",
   "metadata": {},
   "source": [
    "# Local Interpretable Model Agnostic Explanations (LIME)\n",
    "***\n",
    "\n",
    "Based on: Ribeiro, Marco Tulio, Sameer Singh, and Carlos Guestrin. \"Why should i trust you?: Explaining the predictions of any classifier.\" In Proceedings of the 22nd ACM SIGKDD International Conference on Knowledge Discovery and Data Mining, pp. 1135-1144. ACM, 2016.\n",
    "\n",
    "http://www.kdd.org/kdd2016/papers/files/rfp0573-ribeiroA.pdf\n",
    "\n",
    "**Instead of perturbing a sample of interest to create a local region in which to fit a linear model, these examples use a practical sample, say all one story homes, from the data to create an approximately local region in which to fit a linear model.**"
   ]
  },
  {
   "cell_type": "markdown",
   "metadata": {},
   "source": [
    "#### Python imports"
   ]
  },
  {
   "cell_type": "code",
   "execution_count": 1,
   "metadata": {
    "collapsed": false
   },
   "outputs": [],
   "source": [
    "# h2o Python API with specific classes\n",
    "import h2o \n",
    "from h2o.estimators.glm import H2OGeneralizedLinearEstimator\n",
    "from h2o.estimators.gbm import H2OGradientBoostingEstimator\n",
    "\n",
    "import operator\n",
    "\n",
    "import numpy as np   # array, vector, matrix calculations\n",
    "import pandas as pd  # DataFrame handling\n",
    "\n",
    "# display plots in notebook\n",
    "%matplotlib inline"
   ]
  },
  {
   "cell_type": "markdown",
   "metadata": {},
   "source": [
    "#### Start h2o"
   ]
  },
  {
   "cell_type": "code",
   "execution_count": 2,
   "metadata": {
    "collapsed": false
   },
   "outputs": [
    {
     "name": "stdout",
     "output_type": "stream",
     "text": [
      "Checking whether there is an H2O instance running at http://localhost:54321..... not found.\n",
      "Attempting to start a local H2O server...\n",
      "  Java Version: java version \"1.8.0_112\"; Java(TM) SE Runtime Environment (build 1.8.0_112-b16); Java HotSpot(TM) 64-Bit Server VM (build 25.112-b16, mixed mode)\n",
      "  Starting server from /Users/phall/anaconda/lib/python3.5/site-packages/h2o/backend/bin/h2o.jar\n",
      "  Ice root: /var/folders/tc/0ss1l73113j3wdyjsxmy1j2r0000gn/T/tmp2mo0k6y_\n",
      "  JVM stdout: /var/folders/tc/0ss1l73113j3wdyjsxmy1j2r0000gn/T/tmp2mo0k6y_/h2o_phall_started_from_python.out\n",
      "  JVM stderr: /var/folders/tc/0ss1l73113j3wdyjsxmy1j2r0000gn/T/tmp2mo0k6y_/h2o_phall_started_from_python.err\n",
      "  Server is running at http://127.0.0.1:54321\n",
      "Connecting to H2O server at http://127.0.0.1:54321... successful.\n"
     ]
    },
    {
     "data": {
      "text/html": [
       "<div style=\"overflow:auto\"><table style=\"width:50%\"><tr><td>H2O cluster uptime:</td>\n",
       "<td>01 secs</td></tr>\n",
       "<tr><td>H2O cluster version:</td>\n",
       "<td>3.14.0.2</td></tr>\n",
       "<tr><td>H2O cluster version age:</td>\n",
       "<td>1 month and 10 days </td></tr>\n",
       "<tr><td>H2O cluster name:</td>\n",
       "<td>H2O_from_python_phall_siaubq</td></tr>\n",
       "<tr><td>H2O cluster total nodes:</td>\n",
       "<td>1</td></tr>\n",
       "<tr><td>H2O cluster free memory:</td>\n",
       "<td>3.556 Gb</td></tr>\n",
       "<tr><td>H2O cluster total cores:</td>\n",
       "<td>8</td></tr>\n",
       "<tr><td>H2O cluster allowed cores:</td>\n",
       "<td>8</td></tr>\n",
       "<tr><td>H2O cluster status:</td>\n",
       "<td>accepting new members, healthy</td></tr>\n",
       "<tr><td>H2O connection url:</td>\n",
       "<td>http://127.0.0.1:54321</td></tr>\n",
       "<tr><td>H2O connection proxy:</td>\n",
       "<td>None</td></tr>\n",
       "<tr><td>H2O internal security:</td>\n",
       "<td>False</td></tr>\n",
       "<tr><td>H2O API Extensions:</td>\n",
       "<td>XGBoost, Algos, AutoML, Core V3, Core V4</td></tr>\n",
       "<tr><td>Python version:</td>\n",
       "<td>3.5.2 final</td></tr></table></div>"
      ],
      "text/plain": [
       "--------------------------  ----------------------------------------\n",
       "H2O cluster uptime:         01 secs\n",
       "H2O cluster version:        3.14.0.2\n",
       "H2O cluster version age:    1 month and 10 days\n",
       "H2O cluster name:           H2O_from_python_phall_siaubq\n",
       "H2O cluster total nodes:    1\n",
       "H2O cluster free memory:    3.556 Gb\n",
       "H2O cluster total cores:    8\n",
       "H2O cluster allowed cores:  8\n",
       "H2O cluster status:         accepting new members, healthy\n",
       "H2O connection url:         http://127.0.0.1:54321\n",
       "H2O connection proxy:\n",
       "H2O internal security:      False\n",
       "H2O API Extensions:         XGBoost, Algos, AutoML, Core V3, Core V4\n",
       "Python version:             3.5.2 final\n",
       "--------------------------  ----------------------------------------"
      ]
     },
     "metadata": {},
     "output_type": "display_data"
    }
   ],
   "source": [
    "h2o.init()\n",
    "h2o.remove_all()"
   ]
  },
  {
   "cell_type": "markdown",
   "metadata": {},
   "source": [
    "## 1. Download, explore, and prepare UCI credit card default data\n",
    "\n",
    "UCI credit card default data: https://archive.ics.uci.edu/ml/datasets/default+of+credit+card+clients\n",
    "\n",
    "The UCI credit card default data contains demographic and payment information about credit card customers in Taiwan in the year 2005. The data set contains 23 input variables: \n",
    "\n",
    "* **LIMIT_BAL**: Amount of given credit (NT dollar)\n",
    "* **SEX**: 1 = male; 2 = female\n",
    "* **EDUCATION**: 1 = graduate school; 2 = university; 3 = high school; 4 = others \n",
    "* **MARRIAGE**: 1 = married; 2 = single; 3 = others\n",
    "* **AGE**: Age in years \n",
    "* **PAY_0, PAY_2 - PAY_6**: History of past payment; PAY_0 = the repayment status in September, 2005; PAY_2 = the repayment status in August, 2005; ...; PAY_6 = the repayment status in April, 2005. The measurement scale for the repayment status is: -1 = pay duly; 1 = payment delay for one month; 2 = payment delay for two months; ...; 8 = payment delay for eight months; 9 = payment delay for nine months and above. \n",
    "* **BILL_AMT1 - BILL_AMT6**: Amount of bill statement (NT dollar). BILL_AMNT1 = amount of bill statement in September, 2005; BILL_AMT2 = amount of bill statement in August, 2005; ...; BILL_AMT6 = amount of bill statement in April, 2005. \n",
    "* **PAY_AMT1 - PAY_AMT6**: Amount of previous payment (NT dollar). PAY_AMT1 = amount paid in September, 2005; PAY_AMT2 = amount paid in August, 2005; ...; PAY_AMT6 = amount paid in April, 2005. \n",
    "\n",
    "These 23 input variables are used to predict the target variable, whether or not a customer defaulted on their credit card bill in late 2005.\n",
    "\n",
    "Because H2O accepts both numeric and character inputs, some variables will be recoded into more transparent character values."
   ]
  },
  {
   "cell_type": "markdown",
   "metadata": {},
   "source": [
    "#### Download data and clean"
   ]
  },
  {
   "cell_type": "code",
   "execution_count": 3,
   "metadata": {
    "collapsed": false
   },
   "outputs": [],
   "source": [
    "# import XLS file\n",
    "path = 'default_of_credit_card_clients.xls'\n",
    "data = pd.read_excel(path,\n",
    "                     skiprows=1)\n",
    "\n",
    "# remove spaces from target column name \n",
    "data = data.rename(columns={'default payment next month': 'DEFAULT_NEXT_MONTH'}) "
   ]
  },
  {
   "cell_type": "markdown",
   "metadata": {},
   "source": [
    "#### Assign modeling roles"
   ]
  },
  {
   "cell_type": "code",
   "execution_count": 4,
   "metadata": {
    "collapsed": false
   },
   "outputs": [
    {
     "name": "stdout",
     "output_type": "stream",
     "text": [
      "y = DEFAULT_NEXT_MONTH\n",
      "X = ['LIMIT_BAL', 'SEX', 'EDUCATION', 'MARRIAGE', 'AGE', 'PAY_0', 'PAY_2', 'PAY_3', 'PAY_4', 'PAY_5', 'PAY_6', 'BILL_AMT1', 'BILL_AMT2', 'BILL_AMT3', 'BILL_AMT4', 'BILL_AMT5', 'BILL_AMT6', 'PAY_AMT1', 'PAY_AMT2', 'PAY_AMT3', 'PAY_AMT4', 'PAY_AMT5', 'PAY_AMT6']\n"
     ]
    }
   ],
   "source": [
    "# assign target and inputs for GBM\n",
    "y = 'DEFAULT_NEXT_MONTH'\n",
    "X = [name for name in data.columns if name not in [y, 'ID']]\n",
    "print('y =', y)\n",
    "print('X =', X)"
   ]
  },
  {
   "cell_type": "markdown",
   "metadata": {},
   "source": [
    "#### Helper function for recoding values in the UCI credict card default data"
   ]
  },
  {
   "cell_type": "code",
   "execution_count": 5,
   "metadata": {
    "collapsed": true
   },
   "outputs": [],
   "source": [
    "def recode_cc_data(frame):\n",
    "    \n",
    "    \"\"\" Recodes numeric categorical variables into categorical character variables\n",
    "    with more transparent values. \n",
    "    \n",
    "    Args:\n",
    "        frame: Pandas DataFrame version of UCI credit card default data.\n",
    "        \n",
    "    Returns: \n",
    "        Pandas DataFrame with recoded values.\n",
    "        \n",
    "    \"\"\"\n",
    "    \n",
    "    # define recoded values\n",
    "    sex_dict = {1:'male', 2:'female'}\n",
    "    education_dict = {0:'other', 1:'graduate school', 2:'university', 3:'high school', \n",
    "                      4:'other', 5:'other', 6:'other'}\n",
    "    marriage_dict = {0:'other', 1:'married', 2:'single', 3:'divorced'}\n",
    "    pay_dict = {-2:'no consumption', -1:'pay duly', 0:'use of revolving credit', 1:'1 month delay', \n",
    "                2:'2 month delay', 3:'3 month delay', 4:'4 month delay', 5:'5 month delay', 6:'6 month delay', \n",
    "                7:'7 month delay', 8:'8 month delay', 9:'9+ month delay'}\n",
    "    \n",
    "    # recode values using Pandas apply() and anonymous function\n",
    "    frame['SEX'] = frame['SEX'].apply(lambda i: sex_dict[i])\n",
    "    frame['EDUCATION'] = frame['EDUCATION'].apply(lambda i: education_dict[i])    \n",
    "    frame['MARRIAGE'] = frame['MARRIAGE'].apply(lambda i: marriage_dict[i]) \n",
    "    for name in  frame.columns:\n",
    "        if name in ['PAY_0', 'PAY_2', 'PAY_3', 'PAY_4', 'PAY_5', 'PAY_6']:\n",
    "            frame[name] = frame[name].apply(lambda i: pay_dict[i])            \n",
    "                \n",
    "    return frame\n",
    "\n",
    "data = recode_cc_data(data)"
   ]
  },
  {
   "cell_type": "markdown",
   "metadata": {},
   "source": [
    "#### Convert from Pandas DataFrame to H2OFrame"
   ]
  },
  {
   "cell_type": "code",
   "execution_count": 6,
   "metadata": {
    "collapsed": false
   },
   "outputs": [
    {
     "name": "stdout",
     "output_type": "stream",
     "text": [
      "Parse progress: |█████████████████████████████████████████████████████████| 100%\n"
     ]
    }
   ],
   "source": [
    "data = h2o.H2OFrame(data)    # convert \n",
    "data[y] = data[y].asfactor() # ensure target is handled as a categorical variable"
   ]
  },
  {
   "cell_type": "markdown",
   "metadata": {},
   "source": [
    "#### Display descriptive statistics"
   ]
  },
  {
   "cell_type": "code",
   "execution_count": 7,
   "metadata": {
    "collapsed": false
   },
   "outputs": [
    {
     "name": "stdout",
     "output_type": "stream",
     "text": [
      "Rows:30000\n",
      "Cols:25\n",
      "\n",
      "\n"
     ]
    },
    {
     "data": {
      "text/html": [
       "<table>\n",
       "<thead>\n",
       "<tr><th>       </th><th>ID               </th><th>LIMIT_BAL         </th><th>SEX   </th><th>EDUCATION      </th><th>MARRIAGE  </th><th>AGE              </th><th>PAY_0                  </th><th>PAY_2                  </th><th>PAY_3                  </th><th>PAY_4                  </th><th>PAY_5                  </th><th>PAY_6                  </th><th>BILL_AMT1        </th><th>BILL_AMT2        </th><th>BILL_AMT3        </th><th>BILL_AMT4        </th><th>BILL_AMT5        </th><th>BILL_AMT6        </th><th>PAY_AMT1          </th><th>PAY_AMT2          </th><th>PAY_AMT3          </th><th>PAY_AMT4          </th><th>PAY_AMT5          </th><th>PAY_AMT6          </th><th>DEFAULT_NEXT_MONTH  </th></tr>\n",
       "</thead>\n",
       "<tbody>\n",
       "<tr><td>type   </td><td>int              </td><td>int               </td><td>enum  </td><td>enum           </td><td>enum      </td><td>int              </td><td>enum                   </td><td>enum                   </td><td>enum                   </td><td>enum                   </td><td>enum                   </td><td>enum                   </td><td>int              </td><td>int              </td><td>int              </td><td>int              </td><td>int              </td><td>int              </td><td>int               </td><td>int               </td><td>int               </td><td>int               </td><td>int               </td><td>int               </td><td>enum                </td></tr>\n",
       "<tr><td>mins   </td><td>1.0              </td><td>10000.0           </td><td>      </td><td>               </td><td>          </td><td>21.0             </td><td>                       </td><td>                       </td><td>                       </td><td>                       </td><td>                       </td><td>                       </td><td>-165580.0        </td><td>-69777.0         </td><td>-157264.0        </td><td>-170000.0        </td><td>-81334.0         </td><td>-339603.0        </td><td>0.0               </td><td>0.0               </td><td>0.0               </td><td>0.0               </td><td>0.0               </td><td>0.0               </td><td>                    </td></tr>\n",
       "<tr><td>mean   </td><td>15000.5          </td><td>167484.32266666688</td><td>      </td><td>               </td><td>          </td><td>35.48549999999994</td><td>                       </td><td>                       </td><td>                       </td><td>                       </td><td>                       </td><td>                       </td><td>51223.33090000009</td><td>49179.07516666668</td><td>47013.15479999971</td><td>43262.9489666666 </td><td>40311.40096666653</td><td>38871.76039999991</td><td>5663.580500000014 </td><td>5921.16350000001  </td><td>5225.681500000005 </td><td>4826.076866666661 </td><td>4799.387633333302 </td><td>5215.502566666664 </td><td>                    </td></tr>\n",
       "<tr><td>maxs   </td><td>30000.0          </td><td>1000000.0         </td><td>      </td><td>               </td><td>          </td><td>79.0             </td><td>                       </td><td>                       </td><td>                       </td><td>                       </td><td>                       </td><td>                       </td><td>964511.0         </td><td>983931.0         </td><td>1664089.0        </td><td>891586.0         </td><td>927171.0         </td><td>961664.0         </td><td>873552.0          </td><td>1684259.0         </td><td>896040.0          </td><td>621000.0          </td><td>426529.0          </td><td>528666.0          </td><td>                    </td></tr>\n",
       "<tr><td>sigma  </td><td>8660.398374208891</td><td>129747.66156720225</td><td>      </td><td>               </td><td>          </td><td>9.21790406809016 </td><td>                       </td><td>                       </td><td>                       </td><td>                       </td><td>                       </td><td>                       </td><td>73635.86057552959</td><td>71173.76878252836</td><td>69349.38742703681</td><td>64332.85613391641</td><td>60797.1557702648 </td><td>59554.10753674574</td><td>16563.280354025763</td><td>23040.870402057226</td><td>17606.961469803115</td><td>15666.159744031993</td><td>15278.305679144793</td><td>17777.465775435332</td><td>                    </td></tr>\n",
       "<tr><td>zeros  </td><td>0                </td><td>0                 </td><td>      </td><td>               </td><td>          </td><td>0                </td><td>                       </td><td>                       </td><td>                       </td><td>                       </td><td>                       </td><td>                       </td><td>2008             </td><td>2506             </td><td>2870             </td><td>3195             </td><td>3506             </td><td>4020             </td><td>5249              </td><td>5396              </td><td>5968              </td><td>6408              </td><td>6703              </td><td>7173              </td><td>                    </td></tr>\n",
       "<tr><td>missing</td><td>0                </td><td>0                 </td><td>0     </td><td>0              </td><td>0         </td><td>0                </td><td>0                      </td><td>0                      </td><td>0                      </td><td>0                      </td><td>0                      </td><td>0                      </td><td>0                </td><td>0                </td><td>0                </td><td>0                </td><td>0                </td><td>0                </td><td>0                 </td><td>0                 </td><td>0                 </td><td>0                 </td><td>0                 </td><td>0                 </td><td>0                   </td></tr>\n",
       "<tr><td>0      </td><td>1.0              </td><td>20000.0           </td><td>female</td><td>university     </td><td>married   </td><td>24.0             </td><td>2 month delay          </td><td>2 month delay          </td><td>pay duly               </td><td>pay duly               </td><td>no consumption         </td><td>no consumption         </td><td>3913.0           </td><td>3102.0           </td><td>689.0            </td><td>0.0              </td><td>0.0              </td><td>0.0              </td><td>0.0               </td><td>689.0             </td><td>0.0               </td><td>0.0               </td><td>0.0               </td><td>0.0               </td><td>1                   </td></tr>\n",
       "<tr><td>1      </td><td>2.0              </td><td>120000.0          </td><td>female</td><td>university     </td><td>single    </td><td>26.0             </td><td>pay duly               </td><td>2 month delay          </td><td>use of revolving credit</td><td>use of revolving credit</td><td>use of revolving credit</td><td>2 month delay          </td><td>2682.0           </td><td>1725.0           </td><td>2682.0           </td><td>3272.0           </td><td>3455.0           </td><td>3261.0           </td><td>0.0               </td><td>1000.0            </td><td>1000.0            </td><td>1000.0            </td><td>0.0               </td><td>2000.0            </td><td>1                   </td></tr>\n",
       "<tr><td>2      </td><td>3.0              </td><td>90000.0           </td><td>female</td><td>university     </td><td>single    </td><td>34.0             </td><td>use of revolving credit</td><td>use of revolving credit</td><td>use of revolving credit</td><td>use of revolving credit</td><td>use of revolving credit</td><td>use of revolving credit</td><td>29239.0          </td><td>14027.0          </td><td>13559.0          </td><td>14331.0          </td><td>14948.0          </td><td>15549.0          </td><td>1518.0            </td><td>1500.0            </td><td>1000.0            </td><td>1000.0            </td><td>1000.0            </td><td>5000.0            </td><td>0                   </td></tr>\n",
       "<tr><td>3      </td><td>4.0              </td><td>50000.0           </td><td>female</td><td>university     </td><td>married   </td><td>37.0             </td><td>use of revolving credit</td><td>use of revolving credit</td><td>use of revolving credit</td><td>use of revolving credit</td><td>use of revolving credit</td><td>use of revolving credit</td><td>46990.0          </td><td>48233.0          </td><td>49291.0          </td><td>28314.0          </td><td>28959.0          </td><td>29547.0          </td><td>2000.0            </td><td>2019.0            </td><td>1200.0            </td><td>1100.0            </td><td>1069.0            </td><td>1000.0            </td><td>0                   </td></tr>\n",
       "<tr><td>4      </td><td>5.0              </td><td>50000.0           </td><td>male  </td><td>university     </td><td>married   </td><td>57.0             </td><td>pay duly               </td><td>use of revolving credit</td><td>pay duly               </td><td>use of revolving credit</td><td>use of revolving credit</td><td>use of revolving credit</td><td>8617.0           </td><td>5670.0           </td><td>35835.0          </td><td>20940.0          </td><td>19146.0          </td><td>19131.0          </td><td>2000.0            </td><td>36681.0           </td><td>10000.0           </td><td>9000.0            </td><td>689.0             </td><td>679.0             </td><td>0                   </td></tr>\n",
       "<tr><td>5      </td><td>6.0              </td><td>50000.0           </td><td>male  </td><td>graduate school</td><td>single    </td><td>37.0             </td><td>use of revolving credit</td><td>use of revolving credit</td><td>use of revolving credit</td><td>use of revolving credit</td><td>use of revolving credit</td><td>use of revolving credit</td><td>64400.0          </td><td>57069.0          </td><td>57608.0          </td><td>19394.0          </td><td>19619.0          </td><td>20024.0          </td><td>2500.0            </td><td>1815.0            </td><td>657.0             </td><td>1000.0            </td><td>1000.0            </td><td>800.0             </td><td>0                   </td></tr>\n",
       "<tr><td>6      </td><td>7.0              </td><td>500000.0          </td><td>male  </td><td>graduate school</td><td>single    </td><td>29.0             </td><td>use of revolving credit</td><td>use of revolving credit</td><td>use of revolving credit</td><td>use of revolving credit</td><td>use of revolving credit</td><td>use of revolving credit</td><td>367965.0         </td><td>412023.0         </td><td>445007.0         </td><td>542653.0         </td><td>483003.0         </td><td>473944.0         </td><td>55000.0           </td><td>40000.0           </td><td>38000.0           </td><td>20239.0           </td><td>13750.0           </td><td>13770.0           </td><td>0                   </td></tr>\n",
       "<tr><td>7      </td><td>8.0              </td><td>100000.0          </td><td>female</td><td>university     </td><td>single    </td><td>23.0             </td><td>use of revolving credit</td><td>pay duly               </td><td>pay duly               </td><td>use of revolving credit</td><td>use of revolving credit</td><td>pay duly               </td><td>11876.0          </td><td>380.0            </td><td>601.0            </td><td>221.0            </td><td>-159.0           </td><td>567.0            </td><td>380.0             </td><td>601.0             </td><td>0.0               </td><td>581.0             </td><td>1687.0            </td><td>1542.0            </td><td>0                   </td></tr>\n",
       "<tr><td>8      </td><td>9.0              </td><td>140000.0          </td><td>female</td><td>high school    </td><td>married   </td><td>28.0             </td><td>use of revolving credit</td><td>use of revolving credit</td><td>2 month delay          </td><td>use of revolving credit</td><td>use of revolving credit</td><td>use of revolving credit</td><td>11285.0          </td><td>14096.0          </td><td>12108.0          </td><td>12211.0          </td><td>11793.0          </td><td>3719.0           </td><td>3329.0            </td><td>0.0               </td><td>432.0             </td><td>1000.0            </td><td>1000.0            </td><td>1000.0            </td><td>0                   </td></tr>\n",
       "<tr><td>9      </td><td>10.0             </td><td>20000.0           </td><td>male  </td><td>high school    </td><td>single    </td><td>35.0             </td><td>no consumption         </td><td>no consumption         </td><td>no consumption         </td><td>no consumption         </td><td>pay duly               </td><td>pay duly               </td><td>0.0              </td><td>0.0              </td><td>0.0              </td><td>0.0              </td><td>13007.0          </td><td>13912.0          </td><td>0.0               </td><td>0.0               </td><td>0.0               </td><td>13007.0           </td><td>1122.0            </td><td>0.0               </td><td>0                   </td></tr>\n",
       "</tbody>\n",
       "</table>"
      ]
     },
     "metadata": {},
     "output_type": "display_data"
    }
   ],
   "source": [
    "data.describe()"
   ]
  },
  {
   "cell_type": "markdown",
   "metadata": {},
   "source": [
    "## 2. Train an H2O GBM classifier"
   ]
  },
  {
   "cell_type": "code",
   "execution_count": 8,
   "metadata": {
    "collapsed": false
   },
   "outputs": [
    {
     "name": "stdout",
     "output_type": "stream",
     "text": [
      "Train data rows = 21060, columns = 25\n",
      "Test data rows = 8940, columns = 25\n"
     ]
    }
   ],
   "source": [
    "# split into training and validation\n",
    "train, test = data.split_frame([0.7], seed=12345)\n",
    "\n",
    "# summarize split\n",
    "print('Train data rows = %d, columns = %d' % (train.shape[0], train.shape[1]))\n",
    "print('Test data rows = %d, columns = %d' % (test.shape[0], test.shape[1]))"
   ]
  },
  {
   "cell_type": "code",
   "execution_count": 9,
   "metadata": {
    "collapsed": false
   },
   "outputs": [
    {
     "name": "stdout",
     "output_type": "stream",
     "text": [
      "gbm Model Build progress: |███████████████████████████████████████████████| 100%\n",
      "GBM Test AUC = 0.78\n"
     ]
    }
   ],
   "source": [
    "# initialize GBM model\n",
    "model = H2OGradientBoostingEstimator(ntrees=150,            # maximum 150 trees in GBM\n",
    "                                     max_depth=4,           # trees can have maximum depth of 4\n",
    "                                     sample_rate=0.9,       # use 90% of rows in each iteration (tree)\n",
    "                                     col_sample_rate=0.9,   # use 90% of variables in each iteration (tree)\n",
    "                                     balance_classes=True,  # sample to balance 0/1 distribution of target - helps LOCO\n",
    "                                     stopping_rounds=5,     # stop if validation error does not decrease for 5 iterations (trees)\n",
    "                                     seed=12345)            # random seed for reproducibility\n",
    "\n",
    "# train a GBM model\n",
    "model.train(y=y, x=X, training_frame=train, validation_frame=test)\n",
    "\n",
    "# print AUC\n",
    "print('GBM Test AUC = %.2f' % model.auc(valid=True))"
   ]
  },
  {
   "cell_type": "markdown",
   "metadata": {},
   "source": [
    "## 3. Use LIME to generate descriptions for a local region with a perturbed sample"
   ]
  },
  {
   "cell_type": "code",
   "execution_count": 10,
   "metadata": {
    "collapsed": false
   },
   "outputs": [
    {
     "data": {
      "text/html": [
       "<table>\n",
       "<thead>\n",
       "<tr><th style=\"text-align: right;\">   ID</th><th style=\"text-align: right;\">  LIMIT_BAL</th><th>SEX   </th><th>EDUCATION      </th><th>MARRIAGE  </th><th style=\"text-align: right;\">  AGE</th><th>PAY_0        </th><th>PAY_2        </th><th>PAY_3        </th><th>PAY_4        </th><th>PAY_5        </th><th>PAY_6        </th><th style=\"text-align: right;\">  BILL_AMT1</th><th style=\"text-align: right;\">  BILL_AMT2</th><th style=\"text-align: right;\">  BILL_AMT3</th><th style=\"text-align: right;\">  BILL_AMT4</th><th style=\"text-align: right;\">  BILL_AMT5</th><th style=\"text-align: right;\">  BILL_AMT6</th><th style=\"text-align: right;\">  PAY_AMT1</th><th style=\"text-align: right;\">  PAY_AMT2</th><th style=\"text-align: right;\">  PAY_AMT3</th><th style=\"text-align: right;\">  PAY_AMT4</th><th style=\"text-align: right;\">  PAY_AMT5</th><th style=\"text-align: right;\">  PAY_AMT6</th><th style=\"text-align: right;\">  DEFAULT_NEXT_MONTH</th></tr>\n",
       "</thead>\n",
       "<tbody>\n",
       "<tr><td style=\"text-align: right;\">22760</td><td style=\"text-align: right;\">     460000</td><td>female</td><td>graduate school</td><td>married   </td><td style=\"text-align: right;\">   40</td><td>3 month delay</td><td>2 month delay</td><td>2 month delay</td><td>3 month delay</td><td>3 month delay</td><td>3 month delay</td><td style=\"text-align: right;\">       2650</td><td style=\"text-align: right;\">       2650</td><td style=\"text-align: right;\">       2650</td><td style=\"text-align: right;\">       2650</td><td style=\"text-align: right;\">       2650</td><td style=\"text-align: right;\">       2650</td><td style=\"text-align: right;\">         0</td><td style=\"text-align: right;\">         0</td><td style=\"text-align: right;\">         0</td><td style=\"text-align: right;\">         0</td><td style=\"text-align: right;\">         0</td><td style=\"text-align: right;\">       200</td><td style=\"text-align: right;\">                   1</td></tr>\n",
       "</tbody>\n",
       "</table>"
      ]
     },
     "metadata": {},
     "output_type": "display_data"
    },
    {
     "data": {
      "text/plain": []
     },
     "execution_count": 10,
     "metadata": {},
     "output_type": "execute_result"
    }
   ],
   "source": [
    "row = test[test['ID'] == 22760]\n",
    "row"
   ]
  },
  {
   "cell_type": "code",
   "execution_count": 11,
   "metadata": {
    "collapsed": false
   },
   "outputs": [
    {
     "data": {
      "text/html": [
       "<div>\n",
       "<style>\n",
       "    .dataframe thead tr:only-child th {\n",
       "        text-align: right;\n",
       "    }\n",
       "\n",
       "    .dataframe thead th {\n",
       "        text-align: left;\n",
       "    }\n",
       "\n",
       "    .dataframe tbody tr th {\n",
       "        vertical-align: top;\n",
       "    }\n",
       "</style>\n",
       "<table border=\"1\" class=\"dataframe\">\n",
       "  <thead>\n",
       "    <tr style=\"text-align: right;\">\n",
       "      <th></th>\n",
       "      <th>LIMIT_BAL</th>\n",
       "      <th>SEX</th>\n",
       "      <th>EDUCATION</th>\n",
       "      <th>MARRIAGE</th>\n",
       "      <th>AGE</th>\n",
       "      <th>PAY_0</th>\n",
       "      <th>PAY_2</th>\n",
       "      <th>PAY_3</th>\n",
       "      <th>PAY_4</th>\n",
       "      <th>PAY_5</th>\n",
       "      <th>...</th>\n",
       "      <th>BILL_AMT3</th>\n",
       "      <th>BILL_AMT4</th>\n",
       "      <th>BILL_AMT5</th>\n",
       "      <th>BILL_AMT6</th>\n",
       "      <th>PAY_AMT1</th>\n",
       "      <th>PAY_AMT2</th>\n",
       "      <th>PAY_AMT3</th>\n",
       "      <th>PAY_AMT4</th>\n",
       "      <th>PAY_AMT5</th>\n",
       "      <th>PAY_AMT6</th>\n",
       "    </tr>\n",
       "  </thead>\n",
       "  <tbody>\n",
       "    <tr>\n",
       "      <th>0</th>\n",
       "      <td>690898.122301</td>\n",
       "      <td>female</td>\n",
       "      <td>graduate school</td>\n",
       "      <td>single</td>\n",
       "      <td>37.407654</td>\n",
       "      <td>4 month delay</td>\n",
       "      <td>5 month delay</td>\n",
       "      <td>7 month delay</td>\n",
       "      <td>1 month delay</td>\n",
       "      <td>3 month delay</td>\n",
       "      <td>...</td>\n",
       "      <td>66497.670399</td>\n",
       "      <td>-61031.806425</td>\n",
       "      <td>35034.411464</td>\n",
       "      <td>-19486.799661</td>\n",
       "      <td>-15315.094221</td>\n",
       "      <td>24722.067071</td>\n",
       "      <td>-11023.902095</td>\n",
       "      <td>7115.586329</td>\n",
       "      <td>-13760.019358</td>\n",
       "      <td>4215.585686</td>\n",
       "    </tr>\n",
       "    <tr>\n",
       "      <th>1</th>\n",
       "      <td>507381.239194</td>\n",
       "      <td>female</td>\n",
       "      <td>graduate school</td>\n",
       "      <td>other</td>\n",
       "      <td>32.607785</td>\n",
       "      <td>6 month delay</td>\n",
       "      <td>6 month delay</td>\n",
       "      <td>1 month delay</td>\n",
       "      <td>2 month delay</td>\n",
       "      <td>2 month delay</td>\n",
       "      <td>...</td>\n",
       "      <td>-57752.141826</td>\n",
       "      <td>-13991.047242</td>\n",
       "      <td>35953.030665</td>\n",
       "      <td>-145928.598274</td>\n",
       "      <td>14496.617260</td>\n",
       "      <td>-1916.828660</td>\n",
       "      <td>7986.275117</td>\n",
       "      <td>-30234.078112</td>\n",
       "      <td>-4369.076903</td>\n",
       "      <td>19657.233976</td>\n",
       "    </tr>\n",
       "    <tr>\n",
       "      <th>2</th>\n",
       "      <td>479705.009401</td>\n",
       "      <td>female</td>\n",
       "      <td>high school</td>\n",
       "      <td>divorced</td>\n",
       "      <td>48.877495</td>\n",
       "      <td>4 month delay</td>\n",
       "      <td>3 month delay</td>\n",
       "      <td>6 month delay</td>\n",
       "      <td>7 month delay</td>\n",
       "      <td>pay duly</td>\n",
       "      <td>...</td>\n",
       "      <td>30456.413080</td>\n",
       "      <td>72550.018190</td>\n",
       "      <td>-60692.936630</td>\n",
       "      <td>9660.888323</td>\n",
       "      <td>-12639.379017</td>\n",
       "      <td>-31346.510592</td>\n",
       "      <td>-2686.366177</td>\n",
       "      <td>732.032214</td>\n",
       "      <td>-7446.423199</td>\n",
       "      <td>14598.472568</td>\n",
       "    </tr>\n",
       "  </tbody>\n",
       "</table>\n",
       "<p>3 rows × 23 columns</p>\n",
       "</div>"
      ],
      "text/plain": [
       "       LIMIT_BAL     SEX        EDUCATION  MARRIAGE        AGE          PAY_0  \\\n",
       "0  690898.122301  female  graduate school    single  37.407654  4 month delay   \n",
       "1  507381.239194  female  graduate school     other  32.607785  6 month delay   \n",
       "2  479705.009401  female      high school  divorced  48.877495  4 month delay   \n",
       "\n",
       "           PAY_2          PAY_3          PAY_4          PAY_5      ...       \\\n",
       "0  5 month delay  7 month delay  1 month delay  3 month delay      ...        \n",
       "1  6 month delay  1 month delay  2 month delay  2 month delay      ...        \n",
       "2  3 month delay  6 month delay  7 month delay       pay duly      ...        \n",
       "\n",
       "      BILL_AMT3     BILL_AMT4     BILL_AMT5      BILL_AMT6      PAY_AMT1  \\\n",
       "0  66497.670399 -61031.806425  35034.411464  -19486.799661 -15315.094221   \n",
       "1 -57752.141826 -13991.047242  35953.030665 -145928.598274  14496.617260   \n",
       "2  30456.413080  72550.018190 -60692.936630    9660.888323 -12639.379017   \n",
       "\n",
       "       PAY_AMT2      PAY_AMT3      PAY_AMT4      PAY_AMT5      PAY_AMT6  \n",
       "0  24722.067071 -11023.902095   7115.586329 -13760.019358   4215.585686  \n",
       "1  -1916.828660   7986.275117 -30234.078112  -4369.076903  19657.233976  \n",
       "2 -31346.510592  -2686.366177    732.032214  -7446.423199  14598.472568  \n",
       "\n",
       "[3 rows x 23 columns]"
      ]
     },
     "execution_count": 11,
     "metadata": {},
     "output_type": "execute_result"
    }
   ],
   "source": [
    "def generate_local_sample(row, frame, X, N=1000):\n",
    "    \n",
    "    \"\"\" Generates a perturbed sample around a row of interest.\n",
    "    \n",
    "    Args:\n",
    "        row: Row of H2OFrame to be explained.\n",
    "        frame: H2OFrame in which row is stored.\n",
    "        X: List of model input variables.\n",
    "        N: Number of samples to generate.\n",
    "    \n",
    "    Returns:\n",
    "        Pandas DataFrame containing perturbed sample.\n",
    "    \n",
    "    \"\"\"\n",
    "    \n",
    "    # random seed for reproducibility\n",
    "    np.random.seed(12345)\n",
    "    \n",
    "    # initialize Pandas DataFrame\n",
    "    sample_frame = pd.DataFrame(data=np.zeros(shape=(N, len(X))), columns=X)\n",
    "    \n",
    "    # generate column vectors of \n",
    "    # randomly drawn levels for categorical variables\n",
    "    # normally distributed numeric values around mean of column for numeric variables\n",
    "    for key, val in frame[X].types.items():\n",
    "        if val == 'enum': # 'enum' == categorical\n",
    "            draw = np.random.choice(frame[key].levels()[0], size=(1, N))[0]\n",
    "        else:\n",
    "            loc = row[key][0, 0]\n",
    "            sd = frame[key].sd()\n",
    "            draw = np.random.normal(loc, sd, (N, 1))\n",
    "            sample_frame[key] = draw\n",
    "        \n",
    "        sample_frame[key] = draw\n",
    "        \n",
    "    return sample_frame\n",
    "\n",
    "# run and display results\n",
    "perturbed_sample = generate_local_sample(row, test, X)\n",
    "perturbed_sample.head(n=3)"
   ]
  },
  {
   "cell_type": "markdown",
   "metadata": {},
   "source": [
    "#### Calculate distance between row of interest and perturbed sample"
   ]
  },
  {
   "cell_type": "code",
   "execution_count": 12,
   "metadata": {
    "collapsed": false
   },
   "outputs": [
    {
     "name": "stdout",
     "output_type": "stream",
     "text": [
      "Parse progress: |█████████████████████████████████████████████████████████| 100%\n"
     ]
    },
    {
     "data": {
      "text/html": [
       "<table>\n",
       "<thead>\n",
       "<tr><th style=\"text-align: right;\">  LIMIT_BAL</th><th style=\"text-align: right;\">  AGE</th><th style=\"text-align: right;\">  BILL_AMT1</th><th style=\"text-align: right;\">  BILL_AMT2</th><th style=\"text-align: right;\">  BILL_AMT3</th><th style=\"text-align: right;\">  BILL_AMT4</th><th style=\"text-align: right;\">  BILL_AMT5</th><th style=\"text-align: right;\">  BILL_AMT6</th><th style=\"text-align: right;\">  PAY_AMT1</th><th style=\"text-align: right;\">  PAY_AMT2</th><th style=\"text-align: right;\">  PAY_AMT3</th><th style=\"text-align: right;\">  PAY_AMT4</th><th style=\"text-align: right;\">  PAY_AMT5</th><th style=\"text-align: right;\">  PAY_AMT6</th><th style=\"text-align: right;\">  SEX_female</th><th style=\"text-align: right;\">  EDUCATION_graduate school</th><th style=\"text-align: right;\">  MARRIAGE_married</th><th style=\"text-align: right;\">  PAY_0_3 month delay</th><th style=\"text-align: right;\">  PAY_2_2 month delay</th><th style=\"text-align: right;\">  PAY_3_2 month delay</th><th style=\"text-align: right;\">  PAY_4_3 month delay</th><th style=\"text-align: right;\">  PAY_5_3 month delay</th><th style=\"text-align: right;\">  PAY_6_3 month delay</th></tr>\n",
       "</thead>\n",
       "<tbody>\n",
       "<tr><td style=\"text-align: right;\">     460000</td><td style=\"text-align: right;\">   40</td><td style=\"text-align: right;\">       2650</td><td style=\"text-align: right;\">       2650</td><td style=\"text-align: right;\">       2650</td><td style=\"text-align: right;\">       2650</td><td style=\"text-align: right;\">       2650</td><td style=\"text-align: right;\">       2650</td><td style=\"text-align: right;\">         0</td><td style=\"text-align: right;\">         0</td><td style=\"text-align: right;\">         0</td><td style=\"text-align: right;\">         0</td><td style=\"text-align: right;\">         0</td><td style=\"text-align: right;\">       200</td><td style=\"text-align: right;\">           1</td><td style=\"text-align: right;\">                          1</td><td style=\"text-align: right;\">                 1</td><td style=\"text-align: right;\">                    1</td><td style=\"text-align: right;\">                    1</td><td style=\"text-align: right;\">                    1</td><td style=\"text-align: right;\">                    1</td><td style=\"text-align: right;\">                    1</td><td style=\"text-align: right;\">                    1</td></tr>\n",
       "</tbody>\n",
       "</table>"
      ]
     },
     "metadata": {},
     "output_type": "display_data"
    },
    {
     "data": {
      "text/plain": []
     },
     "execution_count": 12,
     "metadata": {},
     "output_type": "execute_result"
    }
   ],
   "source": [
    "# one-hot encoding for calculating Euclidian distance\n",
    "row_df = test[test['ID'] == 22760].as_data_frame()\n",
    "row_dummies = pd.concat([row_df.drop(['ID', 'SEX', 'EDUCATION', 'MARRIAGE', 'PAY_0', 'PAY_2',\n",
    "                                   'PAY_3', 'PAY_4', 'PAY_5', 'PAY_6', 'DEFAULT_NEXT_MONTH'], axis=1),\n",
    "                        pd.get_dummies(row_df[['SEX', 'EDUCATION', 'MARRIAGE', 'PAY_0',\n",
    "                                            'PAY_2', 'PAY_3', 'PAY_4', 'PAY_5', 'PAY_6']])], \n",
    "                        axis=1)\n",
    "\n",
    "# convert to H2OFrame\n",
    "row_dummies = h2o.H2OFrame(row_dummies)\n",
    "row_dummies"
   ]
  },
  {
   "cell_type": "code",
   "execution_count": 13,
   "metadata": {
    "collapsed": false
   },
   "outputs": [
    {
     "name": "stdout",
     "output_type": "stream",
     "text": [
      "Parse progress: |█████████████████████████████████████████████████████████| 100%\n"
     ]
    },
    {
     "data": {
      "text/html": [
       "<table>\n",
       "<thead>\n",
       "<tr><th style=\"text-align: right;\">  LIMIT_BAL</th><th style=\"text-align: right;\">    AGE</th><th style=\"text-align: right;\">  BILL_AMT1</th><th style=\"text-align: right;\">  BILL_AMT2</th><th style=\"text-align: right;\">  BILL_AMT3</th><th style=\"text-align: right;\">  BILL_AMT4</th><th style=\"text-align: right;\">  BILL_AMT5</th><th style=\"text-align: right;\">  BILL_AMT6</th><th style=\"text-align: right;\">  PAY_AMT1</th><th style=\"text-align: right;\">  PAY_AMT2</th><th style=\"text-align: right;\">  PAY_AMT3</th><th style=\"text-align: right;\">  PAY_AMT4</th><th style=\"text-align: right;\">  PAY_AMT5</th><th style=\"text-align: right;\">  PAY_AMT6</th><th style=\"text-align: right;\">  SEX_female</th><th style=\"text-align: right;\">  EDUCATION_graduate school</th><th style=\"text-align: right;\">  MARRIAGE_married</th><th style=\"text-align: right;\">  PAY_0_3 month delay</th><th style=\"text-align: right;\">  PAY_2_2 month delay</th><th style=\"text-align: right;\">  PAY_3_2 month delay</th><th style=\"text-align: right;\">  PAY_4_3 month delay</th><th style=\"text-align: right;\">  PAY_5_3 month delay</th><th style=\"text-align: right;\">  PAY_6_3 month delay</th></tr>\n",
       "</thead>\n",
       "<tbody>\n",
       "<tr><td style=\"text-align: right;\">     690898</td><td style=\"text-align: right;\">37.4077</td><td style=\"text-align: right;\">   -47307.2</td><td style=\"text-align: right;\">   -11825.1</td><td style=\"text-align: right;\">    66497.7</td><td style=\"text-align: right;\">   -61031.8</td><td style=\"text-align: right;\">    35034.4</td><td style=\"text-align: right;\">  -19486.8 </td><td style=\"text-align: right;\">  -15315.1</td><td style=\"text-align: right;\">  24722.1 </td><td style=\"text-align: right;\"> -11023.9 </td><td style=\"text-align: right;\">  7115.59 </td><td style=\"text-align: right;\"> -13760   </td><td style=\"text-align: right;\">   4215.59</td><td style=\"text-align: right;\">           1</td><td style=\"text-align: right;\">                          1</td><td style=\"text-align: right;\">                 0</td><td style=\"text-align: right;\">                    0</td><td style=\"text-align: right;\">                    0</td><td style=\"text-align: right;\">                    0</td><td style=\"text-align: right;\">                    0</td><td style=\"text-align: right;\">                    1</td><td style=\"text-align: right;\">                    0</td></tr>\n",
       "<tr><td style=\"text-align: right;\">     507381</td><td style=\"text-align: right;\">32.6078</td><td style=\"text-align: right;\">    15677.1</td><td style=\"text-align: right;\">    36516.7</td><td style=\"text-align: right;\">   -57752.1</td><td style=\"text-align: right;\">   -13991  </td><td style=\"text-align: right;\">    35953  </td><td style=\"text-align: right;\"> -145929   </td><td style=\"text-align: right;\">   14496.6</td><td style=\"text-align: right;\">  -1916.83</td><td style=\"text-align: right;\">   7986.28</td><td style=\"text-align: right;\">-30234.1  </td><td style=\"text-align: right;\">  -4369.08</td><td style=\"text-align: right;\">  19657.2 </td><td style=\"text-align: right;\">           1</td><td style=\"text-align: right;\">                          1</td><td style=\"text-align: right;\">                 0</td><td style=\"text-align: right;\">                    0</td><td style=\"text-align: right;\">                    0</td><td style=\"text-align: right;\">                    0</td><td style=\"text-align: right;\">                    0</td><td style=\"text-align: right;\">                    0</td><td style=\"text-align: right;\">                    0</td></tr>\n",
       "<tr><td style=\"text-align: right;\">     479705</td><td style=\"text-align: right;\">48.8775</td><td style=\"text-align: right;\">    17760.2</td><td style=\"text-align: right;\">   -34080.2</td><td style=\"text-align: right;\">    30456.4</td><td style=\"text-align: right;\">    72550  </td><td style=\"text-align: right;\">   -60692.9</td><td style=\"text-align: right;\">    9660.89</td><td style=\"text-align: right;\">  -12639.4</td><td style=\"text-align: right;\"> -31346.5 </td><td style=\"text-align: right;\">  -2686.37</td><td style=\"text-align: right;\">   732.032</td><td style=\"text-align: right;\">  -7446.42</td><td style=\"text-align: right;\">  14598.5 </td><td style=\"text-align: right;\">           1</td><td style=\"text-align: right;\">                          0</td><td style=\"text-align: right;\">                 0</td><td style=\"text-align: right;\">                    0</td><td style=\"text-align: right;\">                    0</td><td style=\"text-align: right;\">                    0</td><td style=\"text-align: right;\">                    0</td><td style=\"text-align: right;\">                    0</td><td style=\"text-align: right;\">                    0</td></tr>\n",
       "</tbody>\n",
       "</table>"
      ]
     },
     "metadata": {},
     "output_type": "display_data"
    },
    {
     "data": {
      "text/plain": []
     },
     "execution_count": 13,
     "metadata": {},
     "output_type": "execute_result"
    }
   ],
   "source": [
    "# one-hot encoding for calculating Euclidian distance\n",
    "perturbed_sample_dummies = pd.concat([perturbed_sample.drop(['SEX', 'EDUCATION', 'MARRIAGE', 'PAY_0', 'PAY_2',\n",
    "                                                             'PAY_3', 'PAY_4', 'PAY_5', 'PAY_6'], axis=1),\n",
    "                                      pd.get_dummies(perturbed_sample[['SEX', 'EDUCATION', 'MARRIAGE', 'PAY_0',\n",
    "                                                                       'PAY_2', 'PAY_3', 'PAY_4', 'PAY_5', 'PAY_6']])],\n",
    "                                     axis=1)\n",
    "\n",
    "# convert to H2OFrame\n",
    "perturbed_sample_dummies = h2o.H2OFrame(perturbed_sample_dummies[row_dummies.columns])\n",
    "perturbed_sample_dummies.head(rows=3)"
   ]
  },
  {
   "cell_type": "code",
   "execution_count": 14,
   "metadata": {
    "collapsed": false
   },
   "outputs": [
    {
     "data": {
      "text/html": [
       "<table>\n",
       "<thead>\n",
       "<tr><th style=\"text-align: right;\">  distance</th></tr>\n",
       "</thead>\n",
       "<tbody>\n",
       "<tr><td style=\"text-align: right;\">   4.38483</td></tr>\n",
       "<tr><td style=\"text-align: right;\">   5.57699</td></tr>\n",
       "<tr><td style=\"text-align: right;\">   6.23622</td></tr>\n",
       "</tbody>\n",
       "</table>"
      ]
     },
     "metadata": {},
     "output_type": "display_data"
    },
    {
     "data": {
      "text/plain": []
     },
     "execution_count": 14,
     "metadata": {},
     "output_type": "execute_result"
    }
   ],
   "source": [
    "# calculate distance\n",
    "distance = row_dummies.distance(perturbed_sample_dummies, measure='l2').transpose()\n",
    "distance.columns = ['distance']          # rename \n",
    "distance = distance.scale(center=False)  # scale, all positive\n",
    "distance = distance.max() - distance     # lower distances, higher weight in LIME\n",
    "distance.head(rows=3)"
   ]
  },
  {
   "cell_type": "markdown",
   "metadata": {},
   "source": [
    "#### Bind distance weights onto perturbed sample"
   ]
  },
  {
   "cell_type": "code",
   "execution_count": 15,
   "metadata": {
    "collapsed": false
   },
   "outputs": [
    {
     "name": "stdout",
     "output_type": "stream",
     "text": [
      "Parse progress: |█████████████████████████████████████████████████████████| 100%\n"
     ]
    },
    {
     "data": {
      "text/html": [
       "<table>\n",
       "<thead>\n",
       "<tr><th style=\"text-align: right;\">  LIMIT_BAL</th><th>SEX   </th><th>EDUCATION      </th><th>MARRIAGE  </th><th style=\"text-align: right;\">    AGE</th><th>PAY_0        </th><th>PAY_2        </th><th>PAY_3        </th><th>PAY_4        </th><th>PAY_5        </th><th>PAY_6                  </th><th style=\"text-align: right;\">  BILL_AMT1</th><th style=\"text-align: right;\">  BILL_AMT2</th><th style=\"text-align: right;\">  BILL_AMT3</th><th style=\"text-align: right;\">  BILL_AMT4</th><th style=\"text-align: right;\">  BILL_AMT5</th><th style=\"text-align: right;\">  BILL_AMT6</th><th style=\"text-align: right;\">  PAY_AMT1</th><th style=\"text-align: right;\">  PAY_AMT2</th><th style=\"text-align: right;\">  PAY_AMT3</th><th style=\"text-align: right;\">  PAY_AMT4</th><th style=\"text-align: right;\">  PAY_AMT5</th><th style=\"text-align: right;\">  PAY_AMT6</th><th style=\"text-align: right;\">  distance</th></tr>\n",
       "</thead>\n",
       "<tbody>\n",
       "<tr><td style=\"text-align: right;\">     690898</td><td>female</td><td>graduate school</td><td>single    </td><td style=\"text-align: right;\">37.4077</td><td>4 month delay</td><td>5 month delay</td><td>7 month delay</td><td>1 month delay</td><td>3 month delay</td><td>use of revolving credit</td><td style=\"text-align: right;\">   -47307.2</td><td style=\"text-align: right;\">   -11825.1</td><td style=\"text-align: right;\">    66497.7</td><td style=\"text-align: right;\">   -61031.8</td><td style=\"text-align: right;\">    35034.4</td><td style=\"text-align: right;\">  -19486.8 </td><td style=\"text-align: right;\">  -15315.1</td><td style=\"text-align: right;\">  24722.1 </td><td style=\"text-align: right;\"> -11023.9 </td><td style=\"text-align: right;\">  7115.59 </td><td style=\"text-align: right;\"> -13760   </td><td style=\"text-align: right;\">   4215.59</td><td style=\"text-align: right;\">   4.38483</td></tr>\n",
       "<tr><td style=\"text-align: right;\">     507381</td><td>female</td><td>graduate school</td><td>other     </td><td style=\"text-align: right;\">32.6078</td><td>6 month delay</td><td>6 month delay</td><td>1 month delay</td><td>2 month delay</td><td>2 month delay</td><td>6 month delay          </td><td style=\"text-align: right;\">    15677.1</td><td style=\"text-align: right;\">    36516.7</td><td style=\"text-align: right;\">   -57752.1</td><td style=\"text-align: right;\">   -13991  </td><td style=\"text-align: right;\">    35953  </td><td style=\"text-align: right;\"> -145929   </td><td style=\"text-align: right;\">   14496.6</td><td style=\"text-align: right;\">  -1916.83</td><td style=\"text-align: right;\">   7986.28</td><td style=\"text-align: right;\">-30234.1  </td><td style=\"text-align: right;\">  -4369.08</td><td style=\"text-align: right;\">  19657.2 </td><td style=\"text-align: right;\">   5.57699</td></tr>\n",
       "<tr><td style=\"text-align: right;\">     479705</td><td>female</td><td>high school    </td><td>divorced  </td><td style=\"text-align: right;\">48.8775</td><td>4 month delay</td><td>3 month delay</td><td>6 month delay</td><td>7 month delay</td><td>pay duly     </td><td>2 month delay          </td><td style=\"text-align: right;\">    17760.2</td><td style=\"text-align: right;\">   -34080.2</td><td style=\"text-align: right;\">    30456.4</td><td style=\"text-align: right;\">    72550  </td><td style=\"text-align: right;\">   -60692.9</td><td style=\"text-align: right;\">    9660.89</td><td style=\"text-align: right;\">  -12639.4</td><td style=\"text-align: right;\"> -31346.5 </td><td style=\"text-align: right;\">  -2686.37</td><td style=\"text-align: right;\">   732.032</td><td style=\"text-align: right;\">  -7446.42</td><td style=\"text-align: right;\">  14598.5 </td><td style=\"text-align: right;\">   6.23622</td></tr>\n",
       "</tbody>\n",
       "</table>"
      ]
     },
     "metadata": {},
     "output_type": "display_data"
    },
    {
     "data": {
      "text/plain": []
     },
     "execution_count": 15,
     "metadata": {},
     "output_type": "execute_result"
    }
   ],
   "source": [
    "perturbed_sample = h2o.H2OFrame(perturbed_sample).cbind(distance)\n",
    "perturbed_sample.head(rows=3)"
   ]
  },
  {
   "cell_type": "markdown",
   "metadata": {},
   "source": [
    "#### Bind model predictions onto perturbed sample"
   ]
  },
  {
   "cell_type": "code",
   "execution_count": 16,
   "metadata": {
    "collapsed": false
   },
   "outputs": [
    {
     "name": "stdout",
     "output_type": "stream",
     "text": [
      "gbm prediction progress: |████████████████████████████████████████████████| 100%\n"
     ]
    },
    {
     "data": {
      "text/html": [
       "<table>\n",
       "<thead>\n",
       "<tr><th style=\"text-align: right;\">  LIMIT_BAL</th><th>SEX   </th><th>EDUCATION      </th><th>MARRIAGE  </th><th style=\"text-align: right;\">    AGE</th><th>PAY_0        </th><th>PAY_2        </th><th>PAY_3        </th><th>PAY_4        </th><th>PAY_5        </th><th>PAY_6                  </th><th style=\"text-align: right;\">  BILL_AMT1</th><th style=\"text-align: right;\">  BILL_AMT2</th><th style=\"text-align: right;\">  BILL_AMT3</th><th style=\"text-align: right;\">  BILL_AMT4</th><th style=\"text-align: right;\">  BILL_AMT5</th><th style=\"text-align: right;\">  BILL_AMT6</th><th style=\"text-align: right;\">  PAY_AMT1</th><th style=\"text-align: right;\">  PAY_AMT2</th><th style=\"text-align: right;\">  PAY_AMT3</th><th style=\"text-align: right;\">  PAY_AMT4</th><th style=\"text-align: right;\">  PAY_AMT5</th><th style=\"text-align: right;\">  PAY_AMT6</th><th style=\"text-align: right;\">  distance</th><th style=\"text-align: right;\">  p_DEFAULT_NEXT_MONTH</th></tr>\n",
       "</thead>\n",
       "<tbody>\n",
       "<tr><td style=\"text-align: right;\">     690898</td><td>female</td><td>graduate school</td><td>single    </td><td style=\"text-align: right;\">37.4077</td><td>4 month delay</td><td>5 month delay</td><td>7 month delay</td><td>1 month delay</td><td>3 month delay</td><td>use of revolving credit</td><td style=\"text-align: right;\">   -47307.2</td><td style=\"text-align: right;\">   -11825.1</td><td style=\"text-align: right;\">    66497.7</td><td style=\"text-align: right;\">   -61031.8</td><td style=\"text-align: right;\">    35034.4</td><td style=\"text-align: right;\">  -19486.8 </td><td style=\"text-align: right;\">  -15315.1</td><td style=\"text-align: right;\">  24722.1 </td><td style=\"text-align: right;\"> -11023.9 </td><td style=\"text-align: right;\">  7115.59 </td><td style=\"text-align: right;\"> -13760   </td><td style=\"text-align: right;\">   4215.59</td><td style=\"text-align: right;\">   4.38483</td><td style=\"text-align: right;\">              0.652351</td></tr>\n",
       "<tr><td style=\"text-align: right;\">     507381</td><td>female</td><td>graduate school</td><td>other     </td><td style=\"text-align: right;\">32.6078</td><td>6 month delay</td><td>6 month delay</td><td>1 month delay</td><td>2 month delay</td><td>2 month delay</td><td>6 month delay          </td><td style=\"text-align: right;\">    15677.1</td><td style=\"text-align: right;\">    36516.7</td><td style=\"text-align: right;\">   -57752.1</td><td style=\"text-align: right;\">   -13991  </td><td style=\"text-align: right;\">    35953  </td><td style=\"text-align: right;\"> -145929   </td><td style=\"text-align: right;\">   14496.6</td><td style=\"text-align: right;\">  -1916.83</td><td style=\"text-align: right;\">   7986.28</td><td style=\"text-align: right;\">-30234.1  </td><td style=\"text-align: right;\">  -4369.08</td><td style=\"text-align: right;\">  19657.2 </td><td style=\"text-align: right;\">   5.57699</td><td style=\"text-align: right;\">              0.187668</td></tr>\n",
       "<tr><td style=\"text-align: right;\">     479705</td><td>female</td><td>high school    </td><td>divorced  </td><td style=\"text-align: right;\">48.8775</td><td>4 month delay</td><td>3 month delay</td><td>6 month delay</td><td>7 month delay</td><td>pay duly     </td><td>2 month delay          </td><td style=\"text-align: right;\">    17760.2</td><td style=\"text-align: right;\">   -34080.2</td><td style=\"text-align: right;\">    30456.4</td><td style=\"text-align: right;\">    72550  </td><td style=\"text-align: right;\">   -60692.9</td><td style=\"text-align: right;\">    9660.89</td><td style=\"text-align: right;\">  -12639.4</td><td style=\"text-align: right;\"> -31346.5 </td><td style=\"text-align: right;\">  -2686.37</td><td style=\"text-align: right;\">   732.032</td><td style=\"text-align: right;\">  -7446.42</td><td style=\"text-align: right;\">  14598.5 </td><td style=\"text-align: right;\">   6.23622</td><td style=\"text-align: right;\">              0.506941</td></tr>\n",
       "</tbody>\n",
       "</table>"
      ]
     },
     "metadata": {},
     "output_type": "display_data"
    },
    {
     "data": {
      "text/plain": []
     },
     "execution_count": 16,
     "metadata": {},
     "output_type": "execute_result"
    }
   ],
   "source": [
    "preds1 = model.predict(perturbed_sample).drop(['predict', 'p0'])\n",
    "preds1.columns = ['p_DEFAULT_NEXT_MONTH']\n",
    "perturbed_sample = perturbed_sample.cbind(preds1)\n",
    "perturbed_sample.head(rows=3)"
   ]
  },
  {
   "cell_type": "markdown",
   "metadata": {},
   "source": [
    "#### Train penalized linear model in local region \n",
    "* Check R<sup>2</sup> to ensure surrogate model is a good fit for predictions\n",
    "* Use ranked predictions plot to ensure surrogate model is a good fit for predictions\n",
    "* Use trained GLM and coefficients to understand local region of response function"
   ]
  },
  {
   "cell_type": "code",
   "execution_count": 17,
   "metadata": {
    "collapsed": false
   },
   "outputs": [
    {
     "name": "stdout",
     "output_type": "stream",
     "text": [
      "glm Model Build progress: |███████████████████████████████████████████████| 100%\n",
      "\n",
      "Local GLM Coefficients:\n",
      "EDUCATION.other:          -0.18157736026925744\n",
      "MARRIAGE.other:           -0.14088893132183414\n",
      "PAY_0.no consumption:     -0.1240089818803122\n",
      "PAY_0.pay duly:           -0.11271299916311803\n",
      "PAY_0.use of revolving credit: -0.10702934633127346\n",
      "PAY_2.1 month delay:      -0.1022488928934804\n",
      "PAY_2.8 month delay:      -0.07260247977125406\n",
      "PAY_2.pay duly:           -0.0719886964367166\n",
      "PAY_0.1 month delay:      -0.05682067425827515\n",
      "PAY_2.no consumption:     -0.04842220154323299\n",
      "PAY_4.8 month delay:      -0.0413066809739681\n",
      "PAY_3.pay duly:           -0.03606047245788345\n",
      "PAY_3.5 month delay:      -0.03114994551921552\n",
      "PAY_6.use of revolving credit: -0.030086112261937262\n",
      "PAY_4.6 month delay:      -0.024259247673592443\n",
      "PAY_0.5 month delay:      -0.01967125657691187\n",
      "PAY_4.1 month delay:      -0.013613444130822185\n",
      "PAY_4.pay duly:           -0.011874172553565062\n",
      "PAY_6.7 month delay:      -0.010908950127938761\n",
      "PAY_5.4 month delay:      -0.009515143121981358\n",
      "PAY_5.use of revolving credit: -0.009373740523559484\n",
      "PAY_3.no consumption:     -0.009141040872997528\n",
      "PAY_4.5 month delay:      -0.007974661689702319\n",
      "PAY_5.no consumption:     -0.006519307637392083\n",
      "PAY_6.8 month delay:      -0.0057819910826339485\n",
      "PAY_3.8 month delay:      -0.0032713860423333463\n",
      "AGE:                      -0.00037383311196779204\n",
      "PAY_AMT3:                 -1.3264893661719148e-06\n",
      "PAY_AMT1:                 -1.180231842652519e-06\n",
      "PAY_AMT2:                 -1.0800067882266248e-06\n",
      "BILL_AMT4:                -7.067851274058234e-07\n",
      "PAY_AMT6:                 -4.847744966693683e-07\n",
      "PAY_AMT5:                 -3.7991787598306014e-07\n",
      "BILL_AMT1:                -1.636534771012944e-07\n",
      "BILL_AMT3:                -1.0054298371514967e-07\n",
      "BILL_AMT2:                -8.576703067682462e-08\n",
      "LIMIT_BAL:                -5.751481888930129e-08\n",
      "BILL_AMT5:                1.8537390702854845e-08\n",
      "PAY_AMT4:                 9.185442953901224e-07\n",
      "EDUCATION.graduate school: 0.00026795931699786547\n",
      "PAY_3.6 month delay:      0.0006751844947931021\n",
      "PAY_4.3 month delay:      0.0010198710033275775\n",
      "SEX.female:               0.001723285093014832\n",
      "PAY_5.7 month delay:      0.002562840545826911\n",
      "PAY_6.2 month delay:      0.004539693058148134\n",
      "MARRIAGE.married:         0.005274656055042036\n",
      "MARRIAGE.divorced:        0.0054658083688628135\n",
      "EDUCATION.high school:    0.005963604659713893\n",
      "PAY_4.no consumption:     0.006446897544650474\n",
      "PAY_3.2 month delay:      0.006469764051567933\n",
      "PAY_4.2 month delay:      0.009967525850617609\n",
      "PAY_4.4 month delay:      0.011362945913482931\n",
      "PAY_3.4 month delay:      0.012696496371276208\n",
      "PAY_6.3 month delay:      0.013423442792729537\n",
      "PAY_2.7 month delay:      0.013742576087908503\n",
      "PAY_2.2 month delay:      0.01559085176219684\n",
      "PAY_5.8 month delay:      0.016157043937281505\n",
      "PAY_2.6 month delay:      0.017402284025385347\n",
      "PAY_6.no consumption:     0.020430433621445195\n",
      "PAY_3.7 month delay:      0.027175545384100136\n",
      "PAY_0.4 month delay:      0.027181551252427376\n",
      "PAY_5.2 month delay:      0.04148653241043055\n",
      "PAY_0.8 month delay:      0.05034014598172319\n",
      "PAY_0.7 month delay:      0.08194060639692631\n",
      "PAY_0.3 month delay:      0.1083923974763844\n",
      "PAY_0.2 month delay:      0.1513552200161868\n",
      "Intercept:                0.39410615614432665\n",
      "\n",
      "Local GLM R-square:\n",
      "0.66\n"
     ]
    }
   ],
   "source": [
    "# initialize\n",
    "local_glm1 = H2OGeneralizedLinearEstimator(lambda_search=True, \n",
    "                                           weights_column='distance')\n",
    "# train \n",
    "local_glm1.train(x=X, y='p_DEFAULT_NEXT_MONTH', training_frame=perturbed_sample)\n",
    "\n",
    "# coefs\n",
    "print('\\nLocal GLM Coefficients:')\n",
    "for c_name, c_val in sorted(local_glm1.coef().items(), key=operator.itemgetter(1)):\n",
    "    if c_val != 0.0:\n",
    "        print('%s %s' % (str(c_name + ':').ljust(25), c_val))\n",
    "        \n",
    "# r2\n",
    "print('\\nLocal GLM R-square:\\n%.2f' % local_glm1.r2())"
   ]
  },
  {
   "cell_type": "code",
   "execution_count": 18,
   "metadata": {
    "collapsed": false
   },
   "outputs": [
    {
     "data": {
      "text/plain": [
       "h2o.frame.H2OFrame"
      ]
     },
     "execution_count": 18,
     "metadata": {},
     "output_type": "execute_result"
    }
   ],
   "source": [
    "type(row)"
   ]
  },
  {
   "cell_type": "markdown",
   "metadata": {},
   "source": [
    "## 4. Generate reason codes with LIME based on a perturbed sample"
   ]
  },
  {
   "cell_type": "code",
   "execution_count": 19,
   "metadata": {
    "collapsed": true
   },
   "outputs": [],
   "source": [
    "def plot_local_contrib(row, model, frame, X): \n",
    "\n",
    "    \"\"\" Plots reason codes in a bar chart. \n",
    "    \n",
    "    Args:\n",
    "    \n",
    "        row: Row of H2OFrame to be explained.\n",
    "        frame: H2OFrame in which row is stored.\n",
    "        model: H2O linear model used for generating reason codes.\n",
    "        X: List of model input variables.\n",
    "    \n",
    "    \"\"\"\n",
    "    \n",
    "    # initialize Pandas DataFrame to store results\n",
    "    local_contrib_frame = pd.DataFrame(columns=['Name', 'Local Contribution', 'Sign'])\n",
    "    \n",
    "    # multiply values in row by local glm coefficients    \n",
    "    for key, val in row[X].types.items():\n",
    "        contrib = 0\n",
    "        name = ''\n",
    "        if val == 'enum':\n",
    "                level = row[key][0, 0]\n",
    "                name = '.'.join([str(key), str(level)])\n",
    "                if name in model.coef():\n",
    "                    contrib = model.coef()[name]\n",
    "        else:\n",
    "            name = key\n",
    "            if name in model.coef():\n",
    "                contrib = row[name][0, 0]*model.coef()[name]\n",
    "        \n",
    "        # save only non-zero values\n",
    "        if contrib != 0.0:\n",
    "            local_contrib_frame = local_contrib_frame.append({'Name': name,\n",
    "                                                              'Local Contribution': contrib,\n",
    "                                                              'Sign': contrib > 0}, \n",
    "                                                             ignore_index=True)  \n",
    "    # plot\n",
    "    _ = local_contrib_frame.plot(x='Name',\n",
    "                                 y='Local Contribution',\n",
    "                                 kind='bar', \n",
    "                                 title='Reason Codes', \n",
    "                                 color=''.join(local_contrib_frame.Sign.map({True:'b', False:'r'}).values), \n",
    "                                 legend=False) \n",
    "    "
   ]
  },
  {
   "cell_type": "markdown",
   "metadata": {},
   "source": [
    "#### Display reason codes"
   ]
  },
  {
   "cell_type": "code",
   "execution_count": 20,
   "metadata": {
    "collapsed": false
   },
   "outputs": [
    {
     "data": {
      "image/png": "[encoded data removed]",
      "text/plain": [
       "<matplotlib.figure.Figure at 0x11b7f7278>"
      ]
     },
     "metadata": {},
     "output_type": "display_data"
    }
   ],
   "source": [
    "plot_local_contrib(row, local_glm1, test, X)"
   ]
  },
  {
   "cell_type": "markdown",
   "metadata": {},
   "source": [
    "## 5. Use LIME to generate descriptions for a local region with a practical sample"
   ]
  },
  {
   "cell_type": "markdown",
   "metadata": {},
   "source": [
    "#### Create a local region based on values of PAY_0"
   ]
  },
  {
   "cell_type": "code",
   "execution_count": 21,
   "metadata": {
    "collapsed": false
   },
   "outputs": [
    {
     "name": "stdout",
     "output_type": "stream",
     "text": [
      "gbm prediction progress: |████████████████████████████████████████████████| 100%\n",
      "Rows:5463\n",
      "Cols:26\n",
      "\n",
      "\n"
     ]
    },
    {
     "data": {
      "text/html": [
       "<table>\n",
       "<thead>\n",
       "<tr><th>       </th><th>ID               </th><th>LIMIT_BAL         </th><th>SEX   </th><th>EDUCATION      </th><th>MARRIAGE  </th><th>AGE               </th><th>PAY_0                  </th><th>PAY_2                  </th><th>PAY_3                  </th><th>PAY_4                  </th><th>PAY_5                  </th><th>PAY_6                  </th><th>BILL_AMT1        </th><th>BILL_AMT2        </th><th>BILL_AMT3        </th><th>BILL_AMT4         </th><th>BILL_AMT5         </th><th>BILL_AMT6         </th><th>PAY_AMT1          </th><th>PAY_AMT2          </th><th>PAY_AMT3          </th><th>PAY_AMT4          </th><th>PAY_AMT5         </th><th>PAY_AMT6          </th><th>DEFAULT_NEXT_MONTH  </th><th>p_DEFAULT_NEXT_MONTH  </th></tr>\n",
       "</thead>\n",
       "<tbody>\n",
       "<tr><td>type   </td><td>int              </td><td>int               </td><td>enum  </td><td>enum           </td><td>enum      </td><td>int               </td><td>enum                   </td><td>enum                   </td><td>enum                   </td><td>enum                   </td><td>enum                   </td><td>enum                   </td><td>int              </td><td>int              </td><td>int              </td><td>int               </td><td>int               </td><td>int               </td><td>int               </td><td>int               </td><td>int               </td><td>int               </td><td>int              </td><td>int               </td><td>enum                </td><td>real                  </td></tr>\n",
       "<tr><td>mins   </td><td>4.0              </td><td>10000.0           </td><td>      </td><td>               </td><td>          </td><td>21.0              </td><td>                       </td><td>                       </td><td>                       </td><td>                       </td><td>                       </td><td>                       </td><td>-154973.0        </td><td>-26214.0         </td><td>-15910.0         </td><td>-15910.0          </td><td>-28335.0          </td><td>-209051.0         </td><td>0.0               </td><td>0.0               </td><td>0.0               </td><td>0.0               </td><td>0.0              </td><td>0.0               </td><td>                    </td><td>0.004584051026802937  </td></tr>\n",
       "<tr><td>mean   </td><td>15040.13197876627</td><td>171173.34797730207</td><td>      </td><td>               </td><td>          </td><td>34.839648544755605</td><td>                       </td><td>                       </td><td>                       </td><td>                       </td><td>                       </td><td>                       </td><td>48748.91817682587</td><td>47271.87717371407</td><td>45427.75928976755</td><td>42105.330770638844</td><td>39677.749222039194</td><td>38118.17847336625 </td><td>5799.562145341385 </td><td>5506.4825187625775</td><td>5004.218927329306 </td><td>4863.755811824999 </td><td>4835.199707120634</td><td>5078.960278235403 </td><td>                    </td><td>0.20188681798164845   </td></tr>\n",
       "<tr><td>maxs   </td><td>29179.0          </td><td>780000.0          </td><td>      </td><td>               </td><td>          </td><td>75.0              </td><td>                       </td><td>                       </td><td>                       </td><td>                       </td><td>                       </td><td>                       </td><td>626648.0         </td><td>586825.0         </td><td>577957.0         </td><td>563543.0          </td><td>530672.0          </td><td>511905.0          </td><td>493358.0          </td><td>1227082.0         </td><td>371718.0          </td><td>400046.0          </td><td>388071.0         </td><td>443001.0          </td><td>                    </td><td>0.8908795141080315    </td></tr>\n",
       "<tr><td>sigma  </td><td>8451.59661253189 </td><td>125261.33709325126</td><td>      </td><td>               </td><td>          </td><td>9.015564190856791 </td><td>                       </td><td>                       </td><td>                       </td><td>                       </td><td>                       </td><td>                       </td><td>69867.88964635596</td><td>67994.2813521727 </td><td>65972.07593572335</td><td>61876.24000620019 </td><td>59348.872367527256</td><td>57801.079841826264</td><td>17535.230995305028</td><td>21340.42870233809 </td><td>14736.960796122034</td><td>15612.827746084311</td><td>14888.07545565182</td><td>17850.739397457837</td><td>                    </td><td>0.1914046320657202    </td></tr>\n",
       "<tr><td>zeros  </td><td>0                </td><td>0                 </td><td>      </td><td>               </td><td>          </td><td>0                 </td><td>                       </td><td>                       </td><td>                       </td><td>                       </td><td>                       </td><td>                       </td><td>403              </td><td>510              </td><td>557              </td><td>627               </td><td>662               </td><td>732               </td><td>990               </td><td>970               </td><td>1083              </td><td>1128              </td><td>1178             </td><td>1297              </td><td>                    </td><td>0                     </td></tr>\n",
       "<tr><td>missing</td><td>0                </td><td>0                 </td><td>0     </td><td>0              </td><td>0         </td><td>0                 </td><td>0                      </td><td>0                      </td><td>0                      </td><td>0                      </td><td>0                      </td><td>0                      </td><td>0                </td><td>0                </td><td>0                </td><td>0                 </td><td>0                 </td><td>0                 </td><td>0                 </td><td>0                 </td><td>0                 </td><td>0                 </td><td>0                </td><td>0                 </td><td>0                   </td><td>0                     </td></tr>\n",
       "<tr><td>0      </td><td>4.0              </td><td>50000.0           </td><td>female</td><td>university     </td><td>married   </td><td>37.0              </td><td>use of revolving credit</td><td>use of revolving credit</td><td>use of revolving credit</td><td>use of revolving credit</td><td>use of revolving credit</td><td>use of revolving credit</td><td>46990.0          </td><td>48233.0          </td><td>49291.0          </td><td>28314.0           </td><td>28959.0           </td><td>29547.0           </td><td>2000.0            </td><td>2019.0            </td><td>1200.0            </td><td>1100.0            </td><td>1069.0           </td><td>1000.0            </td><td>0                   </td><td>0.1438076658666565    </td></tr>\n",
       "<tr><td>1      </td><td>8.0              </td><td>100000.0          </td><td>female</td><td>university     </td><td>single    </td><td>23.0              </td><td>use of revolving credit</td><td>pay duly               </td><td>pay duly               </td><td>use of revolving credit</td><td>use of revolving credit</td><td>pay duly               </td><td>11876.0          </td><td>380.0            </td><td>601.0            </td><td>221.0             </td><td>-159.0            </td><td>567.0             </td><td>380.0             </td><td>601.0             </td><td>0.0               </td><td>581.0             </td><td>1687.0           </td><td>1542.0            </td><td>0                   </td><td>0.11550598047910923   </td></tr>\n",
       "<tr><td>2      </td><td>16.0             </td><td>50000.0           </td><td>female</td><td>high school    </td><td>divorced  </td><td>23.0              </td><td>1 month delay          </td><td>2 month delay          </td><td>use of revolving credit</td><td>use of revolving credit</td><td>use of revolving credit</td><td>use of revolving credit</td><td>50614.0          </td><td>29173.0          </td><td>28116.0          </td><td>28771.0           </td><td>29531.0           </td><td>30211.0           </td><td>0.0               </td><td>1500.0            </td><td>1100.0            </td><td>1200.0            </td><td>1300.0           </td><td>1100.0            </td><td>0                   </td><td>0.3652491527338868    </td></tr>\n",
       "<tr><td>3      </td><td>19.0             </td><td>360000.0          </td><td>female</td><td>graduate school</td><td>married   </td><td>49.0              </td><td>1 month delay          </td><td>no consumption         </td><td>no consumption         </td><td>no consumption         </td><td>no consumption         </td><td>no consumption         </td><td>0.0              </td><td>0.0              </td><td>0.0              </td><td>0.0               </td><td>0.0               </td><td>0.0               </td><td>0.0               </td><td>0.0               </td><td>0.0               </td><td>0.0               </td><td>0.0              </td><td>0.0               </td><td>0                   </td><td>0.45788630446679873   </td></tr>\n",
       "<tr><td>4      </td><td>22.0             </td><td>120000.0          </td><td>female</td><td>university     </td><td>married   </td><td>39.0              </td><td>pay duly               </td><td>pay duly               </td><td>pay duly               </td><td>pay duly               </td><td>pay duly               </td><td>pay duly               </td><td>316.0            </td><td>316.0            </td><td>316.0            </td><td>0.0               </td><td>632.0             </td><td>316.0             </td><td>316.0             </td><td>316.0             </td><td>0.0               </td><td>632.0             </td><td>316.0            </td><td>0.0               </td><td>1                   </td><td>0.27511701134109173   </td></tr>\n",
       "<tr><td>5      </td><td>38.0             </td><td>60000.0           </td><td>female</td><td>university     </td><td>single    </td><td>22.0              </td><td>use of revolving credit</td><td>use of revolving credit</td><td>use of revolving credit</td><td>use of revolving credit</td><td>use of revolving credit</td><td>pay duly               </td><td>15054.0          </td><td>9806.0           </td><td>11068.0          </td><td>6026.0            </td><td>-28335.0          </td><td>18660.0           </td><td>1500.0            </td><td>1518.0            </td><td>2043.0            </td><td>0.0               </td><td>47671.0          </td><td>617.0             </td><td>0                   </td><td>0.1582164809991936    </td></tr>\n",
       "<tr><td>6      </td><td>45.0             </td><td>40000.0           </td><td>female</td><td>graduate school</td><td>single    </td><td>30.0              </td><td>use of revolving credit</td><td>use of revolving credit</td><td>use of revolving credit</td><td>2 month delay          </td><td>use of revolving credit</td><td>use of revolving credit</td><td>18927.0          </td><td>21295.0          </td><td>25921.0          </td><td>25209.0           </td><td>26636.0           </td><td>29197.0           </td><td>3000.0            </td><td>5000.0            </td><td>0.0               </td><td>2000.0            </td><td>3000.0           </td><td>0.0               </td><td>0                   </td><td>0.16281855773865764   </td></tr>\n",
       "<tr><td>7      </td><td>54.0             </td><td>180000.0          </td><td>female</td><td>graduate school</td><td>single    </td><td>25.0              </td><td>1 month delay          </td><td>2 month delay          </td><td>use of revolving credit</td><td>use of revolving credit</td><td>use of revolving credit</td><td>use of revolving credit</td><td>41402.0          </td><td>41742.0          </td><td>42758.0          </td><td>43510.0           </td><td>44420.0           </td><td>45319.0           </td><td>1300.0            </td><td>2010.0            </td><td>1762.0            </td><td>1762.0            </td><td>1790.0           </td><td>1622.0            </td><td>0                   </td><td>0.23998043667693214   </td></tr>\n",
       "<tr><td>8      </td><td>56.0             </td><td>500000.0          </td><td>female</td><td>graduate school</td><td>married   </td><td>45.0              </td><td>no consumption         </td><td>no consumption         </td><td>no consumption         </td><td>no consumption         </td><td>no consumption         </td><td>no consumption         </td><td>1905.0           </td><td>3640.0           </td><td>162.0            </td><td>0.0               </td><td>151.0             </td><td>2530.0            </td><td>3640.0            </td><td>162.0             </td><td>0.0               </td><td>151.0             </td><td>2530.0           </td><td>0.0               </td><td>0                   </td><td>0.09018818802468301   </td></tr>\n",
       "<tr><td>9      </td><td>61.0             </td><td>500000.0          </td><td>female</td><td>high school    </td><td>married   </td><td>28.0              </td><td>use of revolving credit</td><td>use of revolving credit</td><td>use of revolving credit</td><td>use of revolving credit</td><td>use of revolving credit</td><td>use of revolving credit</td><td>22848.0          </td><td>23638.0          </td><td>18878.0          </td><td>14937.0           </td><td>13827.0           </td><td>15571.0           </td><td>1516.0            </td><td>1300.0            </td><td>1000.0            </td><td>1000.0            </td><td>2000.0           </td><td>2000.0            </td><td>1                   </td><td>0.0411124169775206    </td></tr>\n",
       "</tbody>\n",
       "</table>"
      ]
     },
     "metadata": {},
     "output_type": "display_data"
    }
   ],
   "source": [
    "preds2 = model.predict(test).drop(['predict', 'p0'])\n",
    "preds2.columns = ['p_DEFAULT_NEXT_MONTH']\n",
    "practical_sample = test.cbind(preds2)\n",
    "practical_sample = practical_sample[practical_sample['SEX'] == 'female']\n",
    "practical_sample.describe()"
   ]
  },
  {
   "cell_type": "markdown",
   "metadata": {},
   "source": [
    "#### Train penalized linear model in local region \n",
    "* Check R<sup>2</sup> to ensure surrogate model is a good fit for predictions\n",
    "* Use ranked predictions plot to ensure surrogate model is a good fit for predictions\n",
    "* Use trained GLM and coefficients to understand local region of response function"
   ]
  },
  {
   "cell_type": "code",
   "execution_count": 22,
   "metadata": {
    "collapsed": false
   },
   "outputs": [
    {
     "name": "stdout",
     "output_type": "stream",
     "text": [
      "glm Model Build progress: |███████████████████████████████████████████████| 100%\n",
      "\n",
      "Local GLM Coefficients:\n",
      "PAY_2.1 month delay:      -0.19456955299104287\n",
      "PAY_0.use of revolving credit: -0.1635697771516117\n",
      "PAY_0.no consumption:     -0.13144423208435868\n",
      "PAY_4.5 month delay:      -0.11983188393081368\n",
      "MARRIAGE.other:           -0.09534639505407974\n",
      "EDUCATION.other:          -0.09486663698508511\n",
      "PAY_0.pay duly:           -0.0760167837259141\n",
      "PAY_5.4 month delay:      -0.06123205645050032\n",
      "PAY_4.pay duly:           -0.04857241595473708\n",
      "PAY_3.5 month delay:      -0.03870035194869233\n",
      "PAY_4.no consumption:     -0.03748052132906239\n",
      "PAY_4.use of revolving credit: -0.03740951891789573\n",
      "PAY_3.pay duly:           -0.03603524089046462\n",
      "PAY_6.use of revolving credit: -0.03380137382285508\n",
      "PAY_3.no consumption:     -0.029601222575892257\n",
      "PAY_2.pay duly:           -0.02898729206564798\n",
      "PAY_3.4 month delay:      -0.02408862698025022\n",
      "PAY_2.4 month delay:      -0.02297065240340565\n",
      "PAY_5.pay duly:           -0.022536815704632826\n",
      "PAY_3.use of revolving credit: -0.021812082449965325\n",
      "PAY_6.pay duly:           -0.02099485082028014\n",
      "PAY_5.use of revolving credit: -0.014753950013383706\n",
      "PAY_2.no consumption:     -0.014530437051580797\n",
      "PAY_6.5 month delay:      -0.01427389410417962\n",
      "PAY_0.1 month delay:      -0.007716714116819543\n",
      "PAY_AMT1:                 -5.129722205685727e-07\n",
      "PAY_AMT4:                 -3.645372942054649e-07\n",
      "PAY_AMT3:                 -2.5291084743874455e-07\n",
      "LIMIT_BAL:                -2.1163199390304223e-07\n",
      "PAY_AMT5:                 -1.8276992649915047e-07\n",
      "PAY_AMT2:                 -1.6356774903943676e-07\n",
      "PAY_AMT6:                 -1.3735107842705375e-07\n",
      "BILL_AMT6:                -1.303304589706666e-07\n",
      "BILL_AMT4:                -3.845688444215421e-08\n",
      "BILL_AMT3:                -2.9489207516571235e-08\n",
      "BILL_AMT1:                -1.9179152593054328e-08\n",
      "BILL_AMT2:                1.651466746400586e-07\n",
      "BILL_AMT5:                1.762742408005775e-07\n",
      "AGE:                      0.0005057809355742652\n",
      "PAY_5.no consumption:     0.000754562100692574\n",
      "PAY_2.use of revolving credit: 0.0014124906045095541\n",
      "EDUCATION.high school:    0.006601301762244303\n",
      "EDUCATION.university:     0.007863620006334119\n",
      "MARRIAGE.divorced:        0.008042127399753476\n",
      "PAY_4.2 month delay:      0.009614096304015466\n",
      "PAY_2.3 month delay:      0.011019164576556106\n",
      "MARRIAGE.married:         0.013277627977528513\n",
      "PAY_4.3 month delay:      0.013757888805259254\n",
      "PAY_0.6 month delay:      0.016595122322154595\n",
      "PAY_5.3 month delay:      0.016814073872496255\n",
      "PAY_6.2 month delay:      0.02412991714838654\n",
      "PAY_0.5 month delay:      0.026707509702578146\n",
      "PAY_2.5 month delay:      0.028672805036988613\n",
      "PAY_2.2 month delay:      0.03078123219877333\n",
      "PAY_3.3 month delay:      0.03159314026292581\n",
      "PAY_5.7 month delay:      0.037334246054386476\n",
      "PAY_4.7 month delay:      0.04096217289660176\n",
      "PAY_3.2 month delay:      0.04301493235292486\n",
      "PAY_5.2 month delay:      0.04442620493626597\n",
      "PAY_3.7 month delay:      0.046580285784865436\n",
      "PAY_4.4 month delay:      0.06748169254799037\n",
      "PAY_3.6 month delay:      0.07443349815619166\n",
      "PAY_6.3 month delay:      0.07978494324141848\n",
      "PAY_2.6 month delay:      0.08393634080540172\n",
      "PAY_2.7 month delay:      0.11788277458242953\n",
      "PAY_0.8 month delay:      0.19958917884205474\n",
      "PAY_0.4 month delay:      0.22454252013236412\n",
      "PAY_0.2 month delay:      0.27576352940353854\n",
      "PAY_0.3 month delay:      0.2849186591460951\n",
      "Intercept:                0.3795320247420503\n",
      "\n",
      "Local GLM R-square:\n",
      "0.90\n"
     ]
    }
   ],
   "source": [
    "# initialize\n",
    "local_glm2 = H2OGeneralizedLinearEstimator(lambda_search=True)\n",
    "\n",
    "# train \n",
    "local_glm2.train(x=X, y='p_DEFAULT_NEXT_MONTH', training_frame=practical_sample)\n",
    "\n",
    "# coefs\n",
    "print('\\nLocal GLM Coefficients:')\n",
    "for c_name, c_val in sorted(local_glm2.coef().items(), key=operator.itemgetter(1)):\n",
    "    if c_val != 0.0:\n",
    "        print('%s %s' % (str(c_name + ':').ljust(25), c_val))\n",
    "        \n",
    "# r2\n",
    "print('\\nLocal GLM R-square:\\n%.2f' % local_glm2.r2())"
   ]
  },
  {
   "cell_type": "markdown",
   "metadata": {},
   "source": [
    "## 6. Generate a ranked predictions plot to assess validity of local explanatory model"
   ]
  },
  {
   "cell_type": "code",
   "execution_count": 23,
   "metadata": {
    "collapsed": false
   },
   "outputs": [
    {
     "name": "stdout",
     "output_type": "stream",
     "text": [
      "glm prediction progress: |████████████████████████████████████████████████| 100%\n"
     ]
    },
    {
     "data": {
      "image/png": "[encoded data removed]",
      "text/plain": [
       "<matplotlib.figure.Figure at 0x1193bb240>"
      ]
     },
     "metadata": {},
     "output_type": "display_data"
    }
   ],
   "source": [
    "# ranked predictions plot\n",
    "pred_frame = local_glm2.predict(practical_sample).cbind(practical_sample)\\\n",
    "                       .as_data_frame()[['predict', 'p_DEFAULT_NEXT_MONTH']]\n",
    "\n",
    "pred_frame.columns = ['Surrogate Preds.', 'ML Preds.']\n",
    "pred_frame.sort_values(by='ML Preds.', inplace=True)\n",
    "pred_frame.reset_index(inplace=True, drop=True)\n",
    "_ = pred_frame.plot(title='Ranked Predictions Plot')"
   ]
  },
  {
   "cell_type": "markdown",
   "metadata": {},
   "source": [
    "A ranked predictions plot is a way to visually check whether the surrogate model is a good fit for the complex model. The y-axis is the numeric prediction of both models for a given point. The x-axis is the rank of a point when the predictions are sorted by their GBM prediction, from lowest on the left to highest on the right. When both sets of predictions are aligned, as they are above, this a good indication that the linear model fits the complex, nonlinear GBM well in the approximately local region."
   ]
  },
  {
   "cell_type": "markdown",
   "metadata": {},
   "source": [
    "Both the R<sup>2</sup> and ranked predictions plot show the linear model is a good fit in the practical, approximately local sample. This means the regression coefficients are likely a very accurate representation of the behavior of the nonlinear model in this region."
   ]
  },
  {
   "cell_type": "markdown",
   "metadata": {},
   "source": [
    "## 7. Generate reason codes using a practical sample"
   ]
  },
  {
   "cell_type": "markdown",
   "metadata": {},
   "source": [
    "#### Create explanations (or 'reason codes') for a row in the local set\n",
    "The local glm coefficient multiplied by the value in a specific row are estimates of how much each variable contributed to each prediction decision. These values can tell you how a variable and it's values were weighted in any given decision by the model. These values are crucially important for machine learning interpretability and are often to referred to \"local feature importance\", \"reason codes\", or \"turn-down codes.\" The latter phrases are borrowed from credit scoring. Credit lenders must provide reasons for turning down a credit application, even for automated decisions. Reason codes can be easily extracted from LIME local feature importance values, by simply ranking the variables that played the largest role in any given decision."
   ]
  },
  {
   "cell_type": "code",
   "execution_count": 24,
   "metadata": {
    "collapsed": false
   },
   "outputs": [
    {
     "data": {
      "image/png": "[encoded data removed]",
      "text/plain": [
       "<matplotlib.figure.Figure at 0x1193af048>"
      ]
     },
     "metadata": {},
     "output_type": "display_data"
    }
   ],
   "source": [
    "plot_local_contrib(row, local_glm2, practical_sample, X)                                                             "
   ]
  },
  {
   "cell_type": "markdown",
   "metadata": {},
   "source": [
    "#### Shutdown H2O"
   ]
  },
  {
   "cell_type": "code",
   "execution_count": 25,
   "metadata": {
    "collapsed": false
   },
   "outputs": [
    {
     "name": "stdout",
     "output_type": "stream",
     "text": [
      "Are you sure you want to shutdown the H2O instance running at http://127.0.0.1:54321 (Y/N)? y\n",
      "H2O session _sid_bcf3 closed.\n"
     ]
    }
   ],
   "source": [
    "# be careful, this can erase your work!\n",
    "h2o.cluster().shutdown(prompt=True)"
   ]
  }
 ],
 "metadata": {
  "anaconda-cloud": {},
  "kernelspec": {
   "display_name": "Python [conda root]",
   "language": "python",
   "name": "conda-root-py"
  },
  "language_info": {
   "codemirror_mode": {
    "name": "ipython",
    "version": 3
   },
   "file_extension": ".py",
   "mimetype": "text/x-python",
   "name": "python",
   "nbconvert_exporter": "python",
   "pygments_lexer": "ipython3",
   "version": "3.5.2"
  }
 },
 "nbformat": 4,
 "nbformat_minor": 2
}
